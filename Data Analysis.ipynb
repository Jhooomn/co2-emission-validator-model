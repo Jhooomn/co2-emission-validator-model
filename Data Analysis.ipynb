{
 "cells": [
  {
   "cell_type": "code",
   "execution_count": 59,
   "metadata": {},
   "outputs": [],
   "source": [
    "import pandas as pd\n",
    "import matplotlib.pyplot as plt\n",
    "import seaborn as sns\n",
    "import numpy as np\n",
    "import cufflinks as cf\n",
    "\n",
    "from sklearn.model_selection import train_test_split\n",
    "from sklearn.linear_model import LinearRegression\n",
    "from sklearn.metrics import r2_score\n",
    "import joblib"
   ]
  },
  {
   "cell_type": "code",
   "execution_count": 20,
   "metadata": {},
   "outputs": [
    {
     "data": {
      "text/html": [
       "        <script type=\"text/javascript\">\n",
       "        window.PlotlyConfig = {MathJaxConfig: 'local'};\n",
       "        if (window.MathJax) {MathJax.Hub.Config({SVG: {font: \"STIX-Web\"}});}\n",
       "        if (typeof require !== 'undefined') {\n",
       "        require.undef(\"plotly\");\n",
       "        requirejs.config({\n",
       "            paths: {\n",
       "                'plotly': ['https://cdn.plot.ly/plotly-latest.min']\n",
       "            }\n",
       "        });\n",
       "        require(['plotly'], function(Plotly) {\n",
       "            window._Plotly = Plotly;\n",
       "        });\n",
       "        }\n",
       "        </script>\n",
       "        "
      ]
     },
     "metadata": {},
     "output_type": "display_data"
    }
   ],
   "source": [
    "cf.go_offline()"
   ]
  },
  {
   "cell_type": "code",
   "execution_count": 21,
   "metadata": {},
   "outputs": [],
   "source": [
    "%matplotlib inline"
   ]
  },
  {
   "cell_type": "markdown",
   "metadata": {},
   "source": [
    "## Reading Data"
   ]
  },
  {
   "cell_type": "code",
   "execution_count": 22,
   "metadata": {},
   "outputs": [],
   "source": [
    "data = pd.read_csv('CO2.csv')"
   ]
  },
  {
   "cell_type": "code",
   "execution_count": 23,
   "metadata": {},
   "outputs": [
    {
     "data": {
      "text/plain": [
       "MODELYEAR                     int64\n",
       "MAKE                         object\n",
       "MODEL                        object\n",
       "VEHICLECLASS                 object\n",
       "ENGINESIZE                  float64\n",
       "CYLINDERS                     int64\n",
       "TRANSMISSION                 object\n",
       "FUELTYPE                     object\n",
       "FUELCONSUMPTION_CITY        float64\n",
       "FUELCONSUMPTION_HWY         float64\n",
       "FUELCONSUMPTION_COMB        float64\n",
       "FUELCONSUMPTION_COMB_MPG      int64\n",
       "CO2EMISSIONS                  int64\n",
       "dtype: object"
      ]
     },
     "execution_count": 23,
     "metadata": {},
     "output_type": "execute_result"
    }
   ],
   "source": [
    "data.dtypes"
   ]
  },
  {
   "cell_type": "code",
   "execution_count": 24,
   "metadata": {},
   "outputs": [
    {
     "data": {
      "text/plain": [
       "Index(['MODELYEAR', 'MAKE', 'MODEL', 'VEHICLECLASS', 'ENGINESIZE', 'CYLINDERS',\n",
       "       'TRANSMISSION', 'FUELTYPE', 'FUELCONSUMPTION_CITY',\n",
       "       'FUELCONSUMPTION_HWY', 'FUELCONSUMPTION_COMB',\n",
       "       'FUELCONSUMPTION_COMB_MPG', 'CO2EMISSIONS'],\n",
       "      dtype='object')"
      ]
     },
     "execution_count": 24,
     "metadata": {},
     "output_type": "execute_result"
    }
   ],
   "source": [
    "data.columns"
   ]
  },
  {
   "cell_type": "code",
   "execution_count": 25,
   "metadata": {
    "scrolled": true
   },
   "outputs": [
    {
     "data": {
      "text/html": [
       "<div>\n",
       "<style scoped>\n",
       "    .dataframe tbody tr th:only-of-type {\n",
       "        vertical-align: middle;\n",
       "    }\n",
       "\n",
       "    .dataframe tbody tr th {\n",
       "        vertical-align: top;\n",
       "    }\n",
       "\n",
       "    .dataframe thead th {\n",
       "        text-align: right;\n",
       "    }\n",
       "</style>\n",
       "<table border=\"1\" class=\"dataframe\">\n",
       "  <thead>\n",
       "    <tr style=\"text-align: right;\">\n",
       "      <th></th>\n",
       "      <th>MODELYEAR</th>\n",
       "      <th>ENGINESIZE</th>\n",
       "      <th>CYLINDERS</th>\n",
       "      <th>FUELCONSUMPTION_CITY</th>\n",
       "      <th>FUELCONSUMPTION_HWY</th>\n",
       "      <th>FUELCONSUMPTION_COMB</th>\n",
       "      <th>FUELCONSUMPTION_COMB_MPG</th>\n",
       "      <th>CO2EMISSIONS</th>\n",
       "    </tr>\n",
       "  </thead>\n",
       "  <tbody>\n",
       "    <tr>\n",
       "      <th>count</th>\n",
       "      <td>1067.0</td>\n",
       "      <td>1067.000000</td>\n",
       "      <td>1067.000000</td>\n",
       "      <td>1067.000000</td>\n",
       "      <td>1067.000000</td>\n",
       "      <td>1067.000000</td>\n",
       "      <td>1067.000000</td>\n",
       "      <td>1067.000000</td>\n",
       "    </tr>\n",
       "    <tr>\n",
       "      <th>mean</th>\n",
       "      <td>2014.0</td>\n",
       "      <td>3.346298</td>\n",
       "      <td>5.794752</td>\n",
       "      <td>13.296532</td>\n",
       "      <td>9.474602</td>\n",
       "      <td>11.580881</td>\n",
       "      <td>26.441425</td>\n",
       "      <td>256.228679</td>\n",
       "    </tr>\n",
       "    <tr>\n",
       "      <th>std</th>\n",
       "      <td>0.0</td>\n",
       "      <td>1.415895</td>\n",
       "      <td>1.797447</td>\n",
       "      <td>4.101253</td>\n",
       "      <td>2.794510</td>\n",
       "      <td>3.485595</td>\n",
       "      <td>7.468702</td>\n",
       "      <td>63.372304</td>\n",
       "    </tr>\n",
       "    <tr>\n",
       "      <th>min</th>\n",
       "      <td>2014.0</td>\n",
       "      <td>1.000000</td>\n",
       "      <td>3.000000</td>\n",
       "      <td>4.600000</td>\n",
       "      <td>4.900000</td>\n",
       "      <td>4.700000</td>\n",
       "      <td>11.000000</td>\n",
       "      <td>108.000000</td>\n",
       "    </tr>\n",
       "    <tr>\n",
       "      <th>25%</th>\n",
       "      <td>2014.0</td>\n",
       "      <td>2.000000</td>\n",
       "      <td>4.000000</td>\n",
       "      <td>10.250000</td>\n",
       "      <td>7.500000</td>\n",
       "      <td>9.000000</td>\n",
       "      <td>21.000000</td>\n",
       "      <td>207.000000</td>\n",
       "    </tr>\n",
       "    <tr>\n",
       "      <th>50%</th>\n",
       "      <td>2014.0</td>\n",
       "      <td>3.400000</td>\n",
       "      <td>6.000000</td>\n",
       "      <td>12.600000</td>\n",
       "      <td>8.800000</td>\n",
       "      <td>10.900000</td>\n",
       "      <td>26.000000</td>\n",
       "      <td>251.000000</td>\n",
       "    </tr>\n",
       "    <tr>\n",
       "      <th>75%</th>\n",
       "      <td>2014.0</td>\n",
       "      <td>4.300000</td>\n",
       "      <td>8.000000</td>\n",
       "      <td>15.550000</td>\n",
       "      <td>10.850000</td>\n",
       "      <td>13.350000</td>\n",
       "      <td>31.000000</td>\n",
       "      <td>294.000000</td>\n",
       "    </tr>\n",
       "    <tr>\n",
       "      <th>max</th>\n",
       "      <td>2014.0</td>\n",
       "      <td>8.400000</td>\n",
       "      <td>12.000000</td>\n",
       "      <td>30.200000</td>\n",
       "      <td>20.500000</td>\n",
       "      <td>25.800000</td>\n",
       "      <td>60.000000</td>\n",
       "      <td>488.000000</td>\n",
       "    </tr>\n",
       "  </tbody>\n",
       "</table>\n",
       "</div>"
      ],
      "text/plain": [
       "       MODELYEAR   ENGINESIZE    CYLINDERS  FUELCONSUMPTION_CITY  \\\n",
       "count     1067.0  1067.000000  1067.000000           1067.000000   \n",
       "mean      2014.0     3.346298     5.794752             13.296532   \n",
       "std          0.0     1.415895     1.797447              4.101253   \n",
       "min       2014.0     1.000000     3.000000              4.600000   \n",
       "25%       2014.0     2.000000     4.000000             10.250000   \n",
       "50%       2014.0     3.400000     6.000000             12.600000   \n",
       "75%       2014.0     4.300000     8.000000             15.550000   \n",
       "max       2014.0     8.400000    12.000000             30.200000   \n",
       "\n",
       "       FUELCONSUMPTION_HWY  FUELCONSUMPTION_COMB  FUELCONSUMPTION_COMB_MPG  \\\n",
       "count          1067.000000           1067.000000               1067.000000   \n",
       "mean              9.474602             11.580881                 26.441425   \n",
       "std               2.794510              3.485595                  7.468702   \n",
       "min               4.900000              4.700000                 11.000000   \n",
       "25%               7.500000              9.000000                 21.000000   \n",
       "50%               8.800000             10.900000                 26.000000   \n",
       "75%              10.850000             13.350000                 31.000000   \n",
       "max              20.500000             25.800000                 60.000000   \n",
       "\n",
       "       CO2EMISSIONS  \n",
       "count   1067.000000  \n",
       "mean     256.228679  \n",
       "std       63.372304  \n",
       "min      108.000000  \n",
       "25%      207.000000  \n",
       "50%      251.000000  \n",
       "75%      294.000000  \n",
       "max      488.000000  "
      ]
     },
     "execution_count": 25,
     "metadata": {},
     "output_type": "execute_result"
    }
   ],
   "source": [
    "data.describe()"
   ]
  },
  {
   "cell_type": "code",
   "execution_count": 26,
   "metadata": {},
   "outputs": [
    {
     "data": {
      "text/html": [
       "<div>\n",
       "<style scoped>\n",
       "    .dataframe tbody tr th:only-of-type {\n",
       "        vertical-align: middle;\n",
       "    }\n",
       "\n",
       "    .dataframe tbody tr th {\n",
       "        vertical-align: top;\n",
       "    }\n",
       "\n",
       "    .dataframe thead th {\n",
       "        text-align: right;\n",
       "    }\n",
       "</style>\n",
       "<table border=\"1\" class=\"dataframe\">\n",
       "  <thead>\n",
       "    <tr style=\"text-align: right;\">\n",
       "      <th></th>\n",
       "      <th>MODELYEAR</th>\n",
       "      <th>MAKE</th>\n",
       "      <th>MODEL</th>\n",
       "      <th>VEHICLECLASS</th>\n",
       "      <th>ENGINESIZE</th>\n",
       "      <th>CYLINDERS</th>\n",
       "      <th>TRANSMISSION</th>\n",
       "      <th>FUELTYPE</th>\n",
       "      <th>FUELCONSUMPTION_CITY</th>\n",
       "      <th>FUELCONSUMPTION_HWY</th>\n",
       "      <th>FUELCONSUMPTION_COMB</th>\n",
       "      <th>FUELCONSUMPTION_COMB_MPG</th>\n",
       "      <th>CO2EMISSIONS</th>\n",
       "    </tr>\n",
       "  </thead>\n",
       "  <tbody>\n",
       "    <tr>\n",
       "      <th>0</th>\n",
       "      <td>2014</td>\n",
       "      <td>ACURA</td>\n",
       "      <td>ILX</td>\n",
       "      <td>COMPACT</td>\n",
       "      <td>2.0</td>\n",
       "      <td>4</td>\n",
       "      <td>AS5</td>\n",
       "      <td>Z</td>\n",
       "      <td>9.9</td>\n",
       "      <td>6.7</td>\n",
       "      <td>8.5</td>\n",
       "      <td>33</td>\n",
       "      <td>196</td>\n",
       "    </tr>\n",
       "    <tr>\n",
       "      <th>1</th>\n",
       "      <td>2014</td>\n",
       "      <td>ACURA</td>\n",
       "      <td>ILX</td>\n",
       "      <td>COMPACT</td>\n",
       "      <td>2.4</td>\n",
       "      <td>4</td>\n",
       "      <td>M6</td>\n",
       "      <td>Z</td>\n",
       "      <td>11.2</td>\n",
       "      <td>7.7</td>\n",
       "      <td>9.6</td>\n",
       "      <td>29</td>\n",
       "      <td>221</td>\n",
       "    </tr>\n",
       "    <tr>\n",
       "      <th>2</th>\n",
       "      <td>2014</td>\n",
       "      <td>ACURA</td>\n",
       "      <td>ILX HYBRID</td>\n",
       "      <td>COMPACT</td>\n",
       "      <td>1.5</td>\n",
       "      <td>4</td>\n",
       "      <td>AV7</td>\n",
       "      <td>Z</td>\n",
       "      <td>6.0</td>\n",
       "      <td>5.8</td>\n",
       "      <td>5.9</td>\n",
       "      <td>48</td>\n",
       "      <td>136</td>\n",
       "    </tr>\n",
       "    <tr>\n",
       "      <th>3</th>\n",
       "      <td>2014</td>\n",
       "      <td>ACURA</td>\n",
       "      <td>MDX 4WD</td>\n",
       "      <td>SUV - SMALL</td>\n",
       "      <td>3.5</td>\n",
       "      <td>6</td>\n",
       "      <td>AS6</td>\n",
       "      <td>Z</td>\n",
       "      <td>12.7</td>\n",
       "      <td>9.1</td>\n",
       "      <td>11.1</td>\n",
       "      <td>25</td>\n",
       "      <td>255</td>\n",
       "    </tr>\n",
       "    <tr>\n",
       "      <th>4</th>\n",
       "      <td>2014</td>\n",
       "      <td>ACURA</td>\n",
       "      <td>RDX AWD</td>\n",
       "      <td>SUV - SMALL</td>\n",
       "      <td>3.5</td>\n",
       "      <td>6</td>\n",
       "      <td>AS6</td>\n",
       "      <td>Z</td>\n",
       "      <td>12.1</td>\n",
       "      <td>8.7</td>\n",
       "      <td>10.6</td>\n",
       "      <td>27</td>\n",
       "      <td>244</td>\n",
       "    </tr>\n",
       "  </tbody>\n",
       "</table>\n",
       "</div>"
      ],
      "text/plain": [
       "   MODELYEAR   MAKE       MODEL VEHICLECLASS  ENGINESIZE  CYLINDERS  \\\n",
       "0       2014  ACURA         ILX      COMPACT         2.0          4   \n",
       "1       2014  ACURA         ILX      COMPACT         2.4          4   \n",
       "2       2014  ACURA  ILX HYBRID      COMPACT         1.5          4   \n",
       "3       2014  ACURA     MDX 4WD  SUV - SMALL         3.5          6   \n",
       "4       2014  ACURA     RDX AWD  SUV - SMALL         3.5          6   \n",
       "\n",
       "  TRANSMISSION FUELTYPE  FUELCONSUMPTION_CITY  FUELCONSUMPTION_HWY  \\\n",
       "0          AS5        Z                   9.9                  6.7   \n",
       "1           M6        Z                  11.2                  7.7   \n",
       "2          AV7        Z                   6.0                  5.8   \n",
       "3          AS6        Z                  12.7                  9.1   \n",
       "4          AS6        Z                  12.1                  8.7   \n",
       "\n",
       "   FUELCONSUMPTION_COMB  FUELCONSUMPTION_COMB_MPG  CO2EMISSIONS  \n",
       "0                   8.5                        33           196  \n",
       "1                   9.6                        29           221  \n",
       "2                   5.9                        48           136  \n",
       "3                  11.1                        25           255  \n",
       "4                  10.6                        27           244  "
      ]
     },
     "execution_count": 26,
     "metadata": {},
     "output_type": "execute_result"
    }
   ],
   "source": [
    "data.head(5)"
   ]
  },
  {
   "cell_type": "markdown",
   "metadata": {},
   "source": [
    "## Features Selection"
   ]
  },
  {
   "cell_type": "code",
   "execution_count": 27,
   "metadata": {},
   "outputs": [],
   "source": [
    "co2_df = data.drop(['MAKE','MODELYEAR','MODEL','VEHICLECLASS','FUELCONSUMPTION_CITY', 'FUELCONSUMPTION_HWY', 'TRANSMISSION','FUELTYPE','FUELCONSUMPTION_COMB_MPG'], axis=1)"
   ]
  },
  {
   "cell_type": "code",
   "execution_count": 28,
   "metadata": {},
   "outputs": [
    {
     "data": {
      "text/html": [
       "<div>\n",
       "<style scoped>\n",
       "    .dataframe tbody tr th:only-of-type {\n",
       "        vertical-align: middle;\n",
       "    }\n",
       "\n",
       "    .dataframe tbody tr th {\n",
       "        vertical-align: top;\n",
       "    }\n",
       "\n",
       "    .dataframe thead th {\n",
       "        text-align: right;\n",
       "    }\n",
       "</style>\n",
       "<table border=\"1\" class=\"dataframe\">\n",
       "  <thead>\n",
       "    <tr style=\"text-align: right;\">\n",
       "      <th></th>\n",
       "      <th>ENGINESIZE</th>\n",
       "      <th>CYLINDERS</th>\n",
       "      <th>FUELCONSUMPTION_COMB</th>\n",
       "      <th>CO2EMISSIONS</th>\n",
       "    </tr>\n",
       "  </thead>\n",
       "  <tbody>\n",
       "    <tr>\n",
       "      <th>0</th>\n",
       "      <td>2.0</td>\n",
       "      <td>4</td>\n",
       "      <td>8.5</td>\n",
       "      <td>196</td>\n",
       "    </tr>\n",
       "    <tr>\n",
       "      <th>1</th>\n",
       "      <td>2.4</td>\n",
       "      <td>4</td>\n",
       "      <td>9.6</td>\n",
       "      <td>221</td>\n",
       "    </tr>\n",
       "    <tr>\n",
       "      <th>2</th>\n",
       "      <td>1.5</td>\n",
       "      <td>4</td>\n",
       "      <td>5.9</td>\n",
       "      <td>136</td>\n",
       "    </tr>\n",
       "    <tr>\n",
       "      <th>3</th>\n",
       "      <td>3.5</td>\n",
       "      <td>6</td>\n",
       "      <td>11.1</td>\n",
       "      <td>255</td>\n",
       "    </tr>\n",
       "    <tr>\n",
       "      <th>4</th>\n",
       "      <td>3.5</td>\n",
       "      <td>6</td>\n",
       "      <td>10.6</td>\n",
       "      <td>244</td>\n",
       "    </tr>\n",
       "  </tbody>\n",
       "</table>\n",
       "</div>"
      ],
      "text/plain": [
       "   ENGINESIZE  CYLINDERS  FUELCONSUMPTION_COMB  CO2EMISSIONS\n",
       "0         2.0          4                   8.5           196\n",
       "1         2.4          4                   9.6           221\n",
       "2         1.5          4                   5.9           136\n",
       "3         3.5          6                  11.1           255\n",
       "4         3.5          6                  10.6           244"
      ]
     },
     "execution_count": 28,
     "metadata": {},
     "output_type": "execute_result"
    }
   ],
   "source": [
    "co2_df.head(5)"
   ]
  },
  {
   "cell_type": "code",
   "execution_count": 29,
   "metadata": {},
   "outputs": [
    {
     "data": {
      "text/plain": [
       "Index(['ENGINESIZE', 'CYLINDERS', 'FUELCONSUMPTION_COMB', 'CO2EMISSIONS'], dtype='object')"
      ]
     },
     "execution_count": 29,
     "metadata": {},
     "output_type": "execute_result"
    }
   ],
   "source": [
    "co2_df.columns"
   ]
  },
  {
   "cell_type": "code",
   "execution_count": 30,
   "metadata": {},
   "outputs": [
    {
     "data": {
      "text/html": [
       "<div>\n",
       "<style scoped>\n",
       "    .dataframe tbody tr th:only-of-type {\n",
       "        vertical-align: middle;\n",
       "    }\n",
       "\n",
       "    .dataframe tbody tr th {\n",
       "        vertical-align: top;\n",
       "    }\n",
       "\n",
       "    .dataframe thead th {\n",
       "        text-align: right;\n",
       "    }\n",
       "</style>\n",
       "<table border=\"1\" class=\"dataframe\">\n",
       "  <thead>\n",
       "    <tr style=\"text-align: right;\">\n",
       "      <th></th>\n",
       "      <th>ENGINESIZE</th>\n",
       "      <th>CYLINDERS</th>\n",
       "      <th>FUELCONSUMPTION_COMB</th>\n",
       "      <th>CO2EMISSIONS</th>\n",
       "    </tr>\n",
       "  </thead>\n",
       "  <tbody>\n",
       "    <tr>\n",
       "      <th>count</th>\n",
       "      <td>1067.000000</td>\n",
       "      <td>1067.000000</td>\n",
       "      <td>1067.000000</td>\n",
       "      <td>1067.000000</td>\n",
       "    </tr>\n",
       "    <tr>\n",
       "      <th>mean</th>\n",
       "      <td>3.346298</td>\n",
       "      <td>5.794752</td>\n",
       "      <td>11.580881</td>\n",
       "      <td>256.228679</td>\n",
       "    </tr>\n",
       "    <tr>\n",
       "      <th>std</th>\n",
       "      <td>1.415895</td>\n",
       "      <td>1.797447</td>\n",
       "      <td>3.485595</td>\n",
       "      <td>63.372304</td>\n",
       "    </tr>\n",
       "    <tr>\n",
       "      <th>min</th>\n",
       "      <td>1.000000</td>\n",
       "      <td>3.000000</td>\n",
       "      <td>4.700000</td>\n",
       "      <td>108.000000</td>\n",
       "    </tr>\n",
       "    <tr>\n",
       "      <th>25%</th>\n",
       "      <td>2.000000</td>\n",
       "      <td>4.000000</td>\n",
       "      <td>9.000000</td>\n",
       "      <td>207.000000</td>\n",
       "    </tr>\n",
       "    <tr>\n",
       "      <th>50%</th>\n",
       "      <td>3.400000</td>\n",
       "      <td>6.000000</td>\n",
       "      <td>10.900000</td>\n",
       "      <td>251.000000</td>\n",
       "    </tr>\n",
       "    <tr>\n",
       "      <th>75%</th>\n",
       "      <td>4.300000</td>\n",
       "      <td>8.000000</td>\n",
       "      <td>13.350000</td>\n",
       "      <td>294.000000</td>\n",
       "    </tr>\n",
       "    <tr>\n",
       "      <th>max</th>\n",
       "      <td>8.400000</td>\n",
       "      <td>12.000000</td>\n",
       "      <td>25.800000</td>\n",
       "      <td>488.000000</td>\n",
       "    </tr>\n",
       "  </tbody>\n",
       "</table>\n",
       "</div>"
      ],
      "text/plain": [
       "        ENGINESIZE    CYLINDERS  FUELCONSUMPTION_COMB  CO2EMISSIONS\n",
       "count  1067.000000  1067.000000           1067.000000   1067.000000\n",
       "mean      3.346298     5.794752             11.580881    256.228679\n",
       "std       1.415895     1.797447              3.485595     63.372304\n",
       "min       1.000000     3.000000              4.700000    108.000000\n",
       "25%       2.000000     4.000000              9.000000    207.000000\n",
       "50%       3.400000     6.000000             10.900000    251.000000\n",
       "75%       4.300000     8.000000             13.350000    294.000000\n",
       "max       8.400000    12.000000             25.800000    488.000000"
      ]
     },
     "execution_count": 30,
     "metadata": {},
     "output_type": "execute_result"
    }
   ],
   "source": [
    "co2_df.describe()"
   ]
  },
  {
   "cell_type": "code",
   "execution_count": 31,
   "metadata": {},
   "outputs": [
    {
     "data": {
      "text/plain": [
       "(1067, 4)"
      ]
     },
     "execution_count": 31,
     "metadata": {},
     "output_type": "execute_result"
    }
   ],
   "source": [
    "co2_df.shape"
   ]
  },
  {
   "cell_type": "markdown",
   "metadata": {},
   "source": [
    "## Find a Feature's Relation"
   ]
  },
  {
   "cell_type": "code",
   "execution_count": 32,
   "metadata": {},
   "outputs": [
    {
     "data": {
      "text/plain": [
       "<seaborn.axisgrid.PairGrid at 0x1dc2a73e3a0>"
      ]
     },
     "execution_count": 32,
     "metadata": {},
     "output_type": "execute_result"
    },
    {
     "data": {
      "image/png": "[encoded data removed]",
      "text/plain": [
       "<Figure size 720x720 with 20 Axes>"
      ]
     },
     "metadata": {
      "needs_background": "light"
     },
     "output_type": "display_data"
    }
   ],
   "source": [
    "sns.pairplot(co2_df)"
   ]
  },
  {
   "cell_type": "markdown",
   "metadata": {},
   "source": [
    "## Correlation"
   ]
  },
  {
   "cell_type": "code",
   "execution_count": 33,
   "metadata": {},
   "outputs": [
    {
     "data": {
      "text/plain": [
       "<AxesSubplot:>"
      ]
     },
     "execution_count": 33,
     "metadata": {},
     "output_type": "execute_result"
    },
    {
     "data": {
      "image/png": "[encoded data removed]",
      "text/plain": [
       "<Figure size 432x288 with 2 Axes>"
      ]
     },
     "metadata": {
      "needs_background": "light"
     },
     "output_type": "display_data"
    }
   ],
   "source": [
    "sns.heatmap(co2_df.corr(), annot=True)"
   ]
  },
  {
   "cell_type": "markdown",
   "metadata": {},
   "source": [
    "## Looking for Null Values"
   ]
  },
  {
   "cell_type": "code",
   "execution_count": 34,
   "metadata": {},
   "outputs": [
    {
     "data": {
      "text/plain": [
       "<AxesSubplot:>"
      ]
     },
     "execution_count": 34,
     "metadata": {},
     "output_type": "execute_result"
    },
    {
     "data": {
      "image/png": "[encoded data removed]",
      "text/plain": [
       "<Figure size 432x288 with 2 Axes>"
      ]
     },
     "metadata": {
      "needs_background": "light"
     },
     "output_type": "display_data"
    }
   ],
   "source": [
    "sns.heatmap(co2_df.isnull())"
   ]
  },
  {
   "cell_type": "markdown",
   "metadata": {},
   "source": [
    "# Data Visualization"
   ]
  },
  {
   "cell_type": "code",
   "execution_count": 35,
   "metadata": {},
   "outputs": [
    {
     "data": {
      "application/vnd.plotly.v1+json": {
       "config": {
        "linkText": "Export to plot.ly",
        "plotlyServerURL": "https://plot.ly",
        "showLink": true
       },
       "data": [
        {
         "histfunc": "count",
         "histnorm": "",
         "marker": {
          "color": "rgba(255, 153, 51, 1.0)",
          "line": {
           "color": "#4D5663",
           "width": 1.3
          }
         },
         "name": "ENGINESIZE",
         "nbinsx": 20,
         "opacity": 0.8,
         "orientation": "v",
         "type": "histogram",
         "x": [
          2,
          2.4,
          1.5,
          3.5,
          3.5,
          3.5,
          3.5,
          3.7,
          3.7,
          2.4,
          2.4,
          3.5,
          5.9,
          5.9,
          4.7,
          4.7,
          4.7,
          4.7,
          5.9,
          2,
          2,
          2,
          2,
          2,
          2,
          2,
          3,
          3,
          3,
          3,
          3,
          4,
          3,
          3,
          4,
          6.3,
          3,
          2,
          2,
          3,
          2,
          3,
          3,
          3,
          4.2,
          4.2,
          5.2,
          5.2,
          4.2,
          4.2,
          5.2,
          5.2,
          4.2,
          4.2,
          4,
          3,
          3,
          3,
          3,
          3,
          4,
          4,
          4,
          3,
          2,
          2,
          2,
          2,
          4,
          6,
          4,
          6,
          4,
          6,
          6,
          6.8,
          2,
          2,
          2,
          2,
          2,
          2,
          2,
          2,
          2,
          2,
          3,
          3,
          3,
          3,
          3,
          2,
          2,
          2,
          3,
          3,
          3,
          3,
          2,
          2,
          3,
          3,
          3,
          4.4,
          4.4,
          3,
          4.4,
          4.4,
          4.4,
          3,
          4.4,
          4.4,
          6,
          3,
          3,
          3,
          4.4,
          4.4,
          4.4,
          4.4,
          4.4,
          4.4,
          4.4,
          4.4,
          4.4,
          4.4,
          2,
          3,
          2,
          3,
          3,
          4.4,
          4.4,
          3,
          4.4,
          2,
          2,
          3,
          3,
          3,
          3.6,
          3.6,
          1.4,
          1.4,
          3.6,
          3.6,
          3.6,
          3.6,
          2.4,
          2,
          2,
          2,
          2.4,
          2,
          2,
          2.4,
          2,
          2,
          2.5,
          3.6,
          2,
          3.6,
          3.6,
          3.6,
          2,
          3.6,
          2,
          3.6,
          3.6,
          3,
          3.6,
          3,
          3.6,
          6.2,
          6.2,
          6.2,
          6.2,
          6.2,
          6.2,
          6.2,
          6.2,
          6.2,
          6.2,
          3.6,
          3.6,
          3.6,
          3.6,
          3.6,
          3.6,
          3.6,
          3.6,
          6.2,
          6.2,
          6.2,
          6.2,
          6.2,
          6.2,
          1.4,
          1.4,
          1.8,
          1.8,
          2,
          1.4,
          1.4,
          2.4,
          3.6,
          3.6,
          2.4,
          3.6,
          3.6,
          4.3,
          5.3,
          5.3,
          5.3,
          5.3,
          5.3,
          5.3,
          5.3,
          5.3,
          5.3,
          5.3,
          5.3,
          5.3,
          4.8,
          6,
          6,
          4.8,
          6,
          6,
          2.5,
          3.6,
          3.6,
          2.4,
          2,
          2.5,
          2.4,
          2.4,
          4.3,
          4.3,
          5.3,
          5.3,
          6.2,
          4.3,
          4.3,
          5.3,
          5.3,
          6.2,
          1.4,
          1.4,
          1.8,
          1.8,
          1.4,
          1.4,
          1.8,
          1.8,
          1.4,
          1.4,
          1.4,
          1.4,
          1.2,
          1.2,
          5.3,
          5.3,
          5.3,
          5.3,
          5.3,
          5.3,
          5.3,
          5.3,
          3.6,
          3.6,
          1.4,
          1.4,
          1.4,
          3.6,
          2.4,
          2.4,
          3.6,
          3.6,
          2.4,
          2.4,
          3.6,
          3.6,
          5.7,
          3.6,
          5.7,
          3.6,
          3.6,
          3.6,
          3.6,
          6.4,
          3.6,
          3.6,
          2.4,
          2.4,
          3.6,
          3.6,
          3.6,
          5.7,
          5.7,
          6.4,
          6.4,
          3.6,
          3.6,
          5.7,
          3.6,
          5.7,
          3.6,
          3.6,
          3.6,
          3.6,
          3.6,
          3.6,
          6.4,
          2,
          2.4,
          2.4,
          2,
          2,
          2.4,
          2.4,
          1.4,
          1.4,
          5.7,
          3.6,
          3.6,
          3.6,
          3.6,
          2.4,
          3.6,
          3.6,
          3.6,
          1.4,
          1.4,
          1.4,
          1.4,
          1.4,
          1.4,
          1.4,
          1.4,
          1.4,
          1.4,
          2,
          4.6,
          4.6,
          5.4,
          5.4,
          4.6,
          4.6,
          6.8,
          5.4,
          5.4,
          2,
          3.5,
          3.5,
          3.7,
          1.6,
          2,
          2.5,
          1.6,
          2,
          5.4,
          5.4,
          2,
          3.5,
          3.5,
          3.5,
          3.5,
          3.5,
          3.5,
          3.5,
          6.2,
          3.5,
          3.5,
          6.2,
          3.7,
          3.7,
          3.7,
          3.7,
          5,
          5,
          5,
          5,
          3.7,
          3.7,
          3.7,
          3.7,
          5,
          5,
          5,
          5,
          6.2,
          1.6,
          1.6,
          1,
          1.6,
          1.6,
          3.5,
          3.5,
          3.5,
          2,
          2,
          2,
          2,
          2,
          2,
          2,
          2,
          2,
          1.5,
          1.6,
          2,
          2.5,
          1.5,
          2,
          2,
          3.7,
          3.7,
          5,
          5,
          5.8,
          3.7,
          2,
          3.5,
          3.5,
          3.5,
          3.5,
          3.5,
          1.6,
          2.5,
          1.6,
          2.5,
          3.6,
          3.6,
          4.3,
          5.3,
          5.3,
          5.3,
          5.3,
          5.3,
          5.3,
          5.3,
          5.3,
          5.3,
          5.3,
          5.3,
          5.3,
          4.8,
          6,
          6,
          4.8,
          6,
          6,
          4.3,
          4.3,
          5.3,
          5.3,
          6.2,
          4.3,
          4.3,
          5.3,
          5.3,
          6.2,
          2.4,
          3.6,
          3.6,
          2.4,
          3.6,
          3.6,
          5.3,
          5.3,
          5.3,
          5.3,
          6.2,
          6.2,
          6.2,
          6.2,
          5.3,
          5.3,
          5.3,
          5.3,
          2.4,
          2.4,
          2.4,
          3.5,
          3.5,
          3.5,
          2,
          1.8,
          1.8,
          1.8,
          3.5,
          2.4,
          2.4,
          1.5,
          1.5,
          1.5,
          1.5,
          3.5,
          3.5,
          3.5,
          3.5,
          1.6,
          1.6,
          2,
          2,
          5,
          3.8,
          3.3,
          3.3,
          2.4,
          2,
          2.4,
          2,
          2.4,
          2.4,
          2.4,
          2,
          2,
          2.4,
          2,
          2.4,
          1.6,
          1.6,
          1.6,
          1.6,
          3.7,
          3.7,
          3.5,
          3.5,
          3.7,
          3.7,
          3.7,
          3.7,
          3.7,
          3.7,
          5.6,
          3.7,
          5.6,
          3.5,
          3.7,
          3.5,
          3.5,
          2.5,
          3.7,
          5,
          5.6,
          3,
          3,
          5,
          2,
          3,
          5,
          5,
          5,
          3,
          5,
          5,
          3,
          5,
          5,
          5,
          5,
          5,
          5,
          5,
          5,
          5,
          5,
          2.4,
          3.2,
          2.4,
          3.2,
          2.4,
          3.2,
          2.4,
          3.2,
          2,
          2,
          2.4,
          2.4,
          2.4,
          2.4,
          2.4,
          5.7,
          3,
          3.6,
          3.6,
          6.4,
          2,
          2,
          2.4,
          2.4,
          2.4,
          2.4,
          2.4,
          3.6,
          3.6,
          3.6,
          3.6,
          3.3,
          1.8,
          1.8,
          2,
          2,
          1.6,
          1.6,
          2,
          2,
          1.6,
          1.6,
          2,
          2,
          2,
          2.4,
          1.6,
          1.6,
          1.6,
          2,
          2,
          3.5,
          2.4,
          3.3,
          2.4,
          3.3,
          1.6,
          1.6,
          2,
          2,
          2.4,
          2.4,
          2,
          2.4,
          6.5,
          5.2,
          5.2,
          2,
          3,
          2,
          2,
          5,
          5,
          5,
          3,
          3,
          3,
          5,
          5,
          5,
          3,
          3,
          3,
          5,
          5,
          5,
          1.8,
          2.5,
          3.5,
          3.5,
          3.5,
          3.5,
          4.6,
          2.5,
          2.5,
          2.5,
          3.5,
          3.5,
          3.5,
          5,
          4.6,
          4.6,
          4.6,
          5,
          5.7,
          3.5,
          3.5,
          3.5,
          3.5,
          3.7,
          3.5,
          2,
          3.7,
          3.7,
          2,
          3.7,
          2,
          5.4,
          5.4,
          3,
          3,
          4.7,
          4.7,
          3.8,
          3,
          2,
          2,
          2.5,
          2,
          2.5,
          3.7,
          3.7,
          1.5,
          1.5,
          2,
          2,
          2.5,
          2.5,
          2,
          2,
          2,
          2.5,
          2.5,
          2,
          2.5,
          2.5,
          2.5,
          2.5,
          2.5,
          2,
          2,
          2,
          2,
          1.8,
          1.8,
          3.5,
          3.5,
          3.5,
          3.5,
          3.5,
          3.5,
          6.2,
          6.2,
          4.7,
          5.5,
          2,
          2,
          4.7,
          5.5,
          5.5,
          2.1,
          3.5,
          3.5,
          3.5,
          3.5,
          3.5,
          3.5,
          3.5,
          4.7,
          4.7,
          4.7,
          5.5,
          5.5,
          5.5,
          5.5,
          5.5,
          5.5,
          3,
          4.7,
          4.7,
          5.5,
          2.1,
          3.5,
          3.5,
          3.5,
          3,
          4.7,
          5.5,
          4.7,
          4.7,
          5.5,
          4.7,
          5.5,
          6,
          1.8,
          1.8,
          3.5,
          5.5,
          6.2,
          6.2,
          6.2,
          1.6,
          1.6,
          1.6,
          1.6,
          1.6,
          1.6,
          1.6,
          1.6,
          1.6,
          1.6,
          1.6,
          1.6,
          1.6,
          1.6,
          1.6,
          1.6,
          1.6,
          1.6,
          1.6,
          1.6,
          1.6,
          1.6,
          1.6,
          1.6,
          1.6,
          1.6,
          1.6,
          1.6,
          1.6,
          1.6,
          1.6,
          1.6,
          1.6,
          1.6,
          1.6,
          1.6,
          2,
          2,
          2.4,
          2,
          2,
          2,
          2,
          2,
          1.2,
          1.2,
          2.4,
          2.4,
          3,
          2,
          2,
          2,
          3.7,
          3.7,
          3.7,
          3.7,
          2.5,
          3.5,
          5.6,
          2.5,
          2.5,
          4,
          4,
          4,
          3.8,
          1.6,
          1.6,
          1.6,
          3.5,
          3.5,
          2,
          3.5,
          3.5,
          2.5,
          3.5,
          2.5,
          2.5,
          1.8,
          1.8,
          5.6,
          5.6,
          1.6,
          1.6,
          4,
          4,
          3.4,
          3.4,
          3.4,
          3.4,
          3.4,
          3.4,
          3.8,
          3.8,
          3.8,
          3.8,
          3.4,
          3.4,
          3.8,
          3.8,
          3.8,
          3.8,
          3.8,
          3.8,
          3.8,
          3.8,
          3.8,
          2.7,
          2.7,
          3.4,
          3.4,
          3.6,
          3.6,
          3,
          4.8,
          4.8,
          3,
          4.8,
          2.7,
          2.7,
          3.4,
          3.4,
          3.6,
          3.6,
          3,
          3,
          4.8,
          3,
          4.8,
          4.8,
          5.7,
          5.7,
          5.7,
          5.7,
          3,
          3.6,
          3.6,
          3,
          3.6,
          3.6,
          3.6,
          3.6,
          3.6,
          6.6,
          6.6,
          6.7,
          6.7,
          6.7,
          6.7,
          6.6,
          2,
          2,
          1.3,
          2.5,
          2.5,
          2.4,
          2.4,
          1.8,
          1.8,
          1,
          1,
          8.4,
          8.4,
          2,
          2,
          2,
          2.5,
          2.5,
          2,
          2,
          2.5,
          2.5,
          2,
          2,
          2.5,
          2.5,
          2.5,
          2.5,
          3.6,
          2.5,
          2.5,
          3.6,
          3.6,
          2,
          2,
          2,
          4,
          4,
          3.5,
          2.5,
          3.5,
          2.5,
          2.5,
          1.8,
          1.8,
          1.8,
          1.8,
          1.8,
          1.8,
          1.8,
          1.8,
          4,
          4,
          2.7,
          3.5,
          3.5,
          3.5,
          3.5,
          1.8,
          1.5,
          1.8,
          2.5,
          2.5,
          2.5,
          5.7,
          3.5,
          3.5,
          2.7,
          2.7,
          4,
          2.7,
          2.7,
          4,
          4,
          4,
          4.6,
          5.7,
          4.6,
          5.7,
          2.7,
          3.5,
          2.7,
          3.5,
          1.5,
          1.5,
          1.8,
          1.8,
          2,
          2,
          2.5,
          2.5,
          1.8,
          2,
          2,
          2.5,
          2,
          2,
          2,
          2,
          3.6,
          2,
          2.5,
          2.5,
          2,
          2,
          1.8,
          1.8,
          2,
          2,
          2,
          2,
          2,
          2,
          1.4,
          1.8,
          1.8,
          2.5,
          2.5,
          3.6,
          2,
          2,
          3.6,
          2,
          2,
          2,
          3.6,
          3,
          2.5,
          2.5,
          3,
          3.2,
          3,
          3.2,
          3,
          3.2,
          3,
          3.2,
          3.2
         ]
        }
       ],
       "layout": {
        "barmode": "overlay",
        "legend": {
         "bgcolor": "#F5F6F9",
         "font": {
          "color": "#4D5663"
         }
        },
        "paper_bgcolor": "#F5F6F9",
        "plot_bgcolor": "#F5F6F9",
        "template": {
         "data": {
          "bar": [
           {
            "error_x": {
             "color": "#2a3f5f"
            },
            "error_y": {
             "color": "#2a3f5f"
            },
            "marker": {
             "line": {
              "color": "#E5ECF6",
              "width": 0.5
             }
            },
            "type": "bar"
           }
          ],
          "barpolar": [
           {
            "marker": {
             "line": {
              "color": "#E5ECF6",
              "width": 0.5
             }
            },
            "type": "barpolar"
           }
          ],
          "carpet": [
           {
            "aaxis": {
             "endlinecolor": "#2a3f5f",
             "gridcolor": "white",
             "linecolor": "white",
             "minorgridcolor": "white",
             "startlinecolor": "#2a3f5f"
            },
            "baxis": {
             "endlinecolor": "#2a3f5f",
             "gridcolor": "white",
             "linecolor": "white",
             "minorgridcolor": "white",
             "startlinecolor": "#2a3f5f"
            },
            "type": "carpet"
           }
          ],
          "choropleth": [
           {
            "colorbar": {
             "outlinewidth": 0,
             "ticks": ""
            },
            "type": "choropleth"
           }
          ],
          "contour": [
           {
            "colorbar": {
             "outlinewidth": 0,
             "ticks": ""
            },
            "colorscale": [
             [
              0,
              "#0d0887"
             ],
             [
              0.1111111111111111,
              "#46039f"
             ],
             [
              0.2222222222222222,
              "#7201a8"
             ],
             [
              0.3333333333333333,
              "#9c179e"
             ],
             [
              0.4444444444444444,
              "#bd3786"
             ],
             [
              0.5555555555555556,
              "#d8576b"
             ],
             [
              0.6666666666666666,
              "#ed7953"
             ],
             [
              0.7777777777777778,
              "#fb9f3a"
             ],
             [
              0.8888888888888888,
              "#fdca26"
             ],
             [
              1,
              "#f0f921"
             ]
            ],
            "type": "contour"
           }
          ],
          "contourcarpet": [
           {
            "colorbar": {
             "outlinewidth": 0,
             "ticks": ""
            },
            "type": "contourcarpet"
           }
          ],
          "heatmap": [
           {
            "colorbar": {
             "outlinewidth": 0,
             "ticks": ""
            },
            "colorscale": [
             [
              0,
              "#0d0887"
             ],
             [
              0.1111111111111111,
              "#46039f"
             ],
             [
              0.2222222222222222,
              "#7201a8"
             ],
             [
              0.3333333333333333,
              "#9c179e"
             ],
             [
              0.4444444444444444,
              "#bd3786"
             ],
             [
              0.5555555555555556,
              "#d8576b"
             ],
             [
              0.6666666666666666,
              "#ed7953"
             ],
             [
              0.7777777777777778,
              "#fb9f3a"
             ],
             [
              0.8888888888888888,
              "#fdca26"
             ],
             [
              1,
              "#f0f921"
             ]
            ],
            "type": "heatmap"
           }
          ],
          "heatmapgl": [
           {
            "colorbar": {
             "outlinewidth": 0,
             "ticks": ""
            },
            "colorscale": [
             [
              0,
              "#0d0887"
             ],
             [
              0.1111111111111111,
              "#46039f"
             ],
             [
              0.2222222222222222,
              "#7201a8"
             ],
             [
              0.3333333333333333,
              "#9c179e"
             ],
             [
              0.4444444444444444,
              "#bd3786"
             ],
             [
              0.5555555555555556,
              "#d8576b"
             ],
             [
              0.6666666666666666,
              "#ed7953"
             ],
             [
              0.7777777777777778,
              "#fb9f3a"
             ],
             [
              0.8888888888888888,
              "#fdca26"
             ],
             [
              1,
              "#f0f921"
             ]
            ],
            "type": "heatmapgl"
           }
          ],
          "histogram": [
           {
            "marker": {
             "colorbar": {
              "outlinewidth": 0,
              "ticks": ""
             }
            },
            "type": "histogram"
           }
          ],
          "histogram2d": [
           {
            "colorbar": {
             "outlinewidth": 0,
             "ticks": ""
            },
            "colorscale": [
             [
              0,
              "#0d0887"
             ],
             [
              0.1111111111111111,
              "#46039f"
             ],
             [
              0.2222222222222222,
              "#7201a8"
             ],
             [
              0.3333333333333333,
              "#9c179e"
             ],
             [
              0.4444444444444444,
              "#bd3786"
             ],
             [
              0.5555555555555556,
              "#d8576b"
             ],
             [
              0.6666666666666666,
              "#ed7953"
             ],
             [
              0.7777777777777778,
              "#fb9f3a"
             ],
             [
              0.8888888888888888,
              "#fdca26"
             ],
             [
              1,
              "#f0f921"
             ]
            ],
            "type": "histogram2d"
           }
          ],
          "histogram2dcontour": [
           {
            "colorbar": {
             "outlinewidth": 0,
             "ticks": ""
            },
            "colorscale": [
             [
              0,
              "#0d0887"
             ],
             [
              0.1111111111111111,
              "#46039f"
             ],
             [
              0.2222222222222222,
              "#7201a8"
             ],
             [
              0.3333333333333333,
              "#9c179e"
             ],
             [
              0.4444444444444444,
              "#bd3786"
             ],
             [
              0.5555555555555556,
              "#d8576b"
             ],
             [
              0.6666666666666666,
              "#ed7953"
             ],
             [
              0.7777777777777778,
              "#fb9f3a"
             ],
             [
              0.8888888888888888,
              "#fdca26"
             ],
             [
              1,
              "#f0f921"
             ]
            ],
            "type": "histogram2dcontour"
           }
          ],
          "mesh3d": [
           {
            "colorbar": {
             "outlinewidth": 0,
             "ticks": ""
            },
            "type": "mesh3d"
           }
          ],
          "parcoords": [
           {
            "line": {
             "colorbar": {
              "outlinewidth": 0,
              "ticks": ""
             }
            },
            "type": "parcoords"
           }
          ],
          "pie": [
           {
            "automargin": true,
            "type": "pie"
           }
          ],
          "scatter": [
           {
            "marker": {
             "colorbar": {
              "outlinewidth": 0,
              "ticks": ""
             }
            },
            "type": "scatter"
           }
          ],
          "scatter3d": [
           {
            "line": {
             "colorbar": {
              "outlinewidth": 0,
              "ticks": ""
             }
            },
            "marker": {
             "colorbar": {
              "outlinewidth": 0,
              "ticks": ""
             }
            },
            "type": "scatter3d"
           }
          ],
          "scattercarpet": [
           {
            "marker": {
             "colorbar": {
              "outlinewidth": 0,
              "ticks": ""
             }
            },
            "type": "scattercarpet"
           }
          ],
          "scattergeo": [
           {
            "marker": {
             "colorbar": {
              "outlinewidth": 0,
              "ticks": ""
             }
            },
            "type": "scattergeo"
           }
          ],
          "scattergl": [
           {
            "marker": {
             "colorbar": {
              "outlinewidth": 0,
              "ticks": ""
             }
            },
            "type": "scattergl"
           }
          ],
          "scattermapbox": [
           {
            "marker": {
             "colorbar": {
              "outlinewidth": 0,
              "ticks": ""
             }
            },
            "type": "scattermapbox"
           }
          ],
          "scatterpolar": [
           {
            "marker": {
             "colorbar": {
              "outlinewidth": 0,
              "ticks": ""
             }
            },
            "type": "scatterpolar"
           }
          ],
          "scatterpolargl": [
           {
            "marker": {
             "colorbar": {
              "outlinewidth": 0,
              "ticks": ""
             }
            },
            "type": "scatterpolargl"
           }
          ],
          "scatterternary": [
           {
            "marker": {
             "colorbar": {
              "outlinewidth": 0,
              "ticks": ""
             }
            },
            "type": "scatterternary"
           }
          ],
          "surface": [
           {
            "colorbar": {
             "outlinewidth": 0,
             "ticks": ""
            },
            "colorscale": [
             [
              0,
              "#0d0887"
             ],
             [
              0.1111111111111111,
              "#46039f"
             ],
             [
              0.2222222222222222,
              "#7201a8"
             ],
             [
              0.3333333333333333,
              "#9c179e"
             ],
             [
              0.4444444444444444,
              "#bd3786"
             ],
             [
              0.5555555555555556,
              "#d8576b"
             ],
             [
              0.6666666666666666,
              "#ed7953"
             ],
             [
              0.7777777777777778,
              "#fb9f3a"
             ],
             [
              0.8888888888888888,
              "#fdca26"
             ],
             [
              1,
              "#f0f921"
             ]
            ],
            "type": "surface"
           }
          ],
          "table": [
           {
            "cells": {
             "fill": {
              "color": "#EBF0F8"
             },
             "line": {
              "color": "white"
             }
            },
            "header": {
             "fill": {
              "color": "#C8D4E3"
             },
             "line": {
              "color": "white"
             }
            },
            "type": "table"
           }
          ]
         },
         "layout": {
          "annotationdefaults": {
           "arrowcolor": "#2a3f5f",
           "arrowhead": 0,
           "arrowwidth": 1
          },
          "autotypenumbers": "strict",
          "coloraxis": {
           "colorbar": {
            "outlinewidth": 0,
            "ticks": ""
           }
          },
          "colorscale": {
           "diverging": [
            [
             0,
             "#8e0152"
            ],
            [
             0.1,
             "#c51b7d"
            ],
            [
             0.2,
             "#de77ae"
            ],
            [
             0.3,
             "#f1b6da"
            ],
            [
             0.4,
             "#fde0ef"
            ],
            [
             0.5,
             "#f7f7f7"
            ],
            [
             0.6,
             "#e6f5d0"
            ],
            [
             0.7,
             "#b8e186"
            ],
            [
             0.8,
             "#7fbc41"
            ],
            [
             0.9,
             "#4d9221"
            ],
            [
             1,
             "#276419"
            ]
           ],
           "sequential": [
            [
             0,
             "#0d0887"
            ],
            [
             0.1111111111111111,
             "#46039f"
            ],
            [
             0.2222222222222222,
             "#7201a8"
            ],
            [
             0.3333333333333333,
             "#9c179e"
            ],
            [
             0.4444444444444444,
             "#bd3786"
            ],
            [
             0.5555555555555556,
             "#d8576b"
            ],
            [
             0.6666666666666666,
             "#ed7953"
            ],
            [
             0.7777777777777778,
             "#fb9f3a"
            ],
            [
             0.8888888888888888,
             "#fdca26"
            ],
            [
             1,
             "#f0f921"
            ]
           ],
           "sequentialminus": [
            [
             0,
             "#0d0887"
            ],
            [
             0.1111111111111111,
             "#46039f"
            ],
            [
             0.2222222222222222,
             "#7201a8"
            ],
            [
             0.3333333333333333,
             "#9c179e"
            ],
            [
             0.4444444444444444,
             "#bd3786"
            ],
            [
             0.5555555555555556,
             "#d8576b"
            ],
            [
             0.6666666666666666,
             "#ed7953"
            ],
            [
             0.7777777777777778,
             "#fb9f3a"
            ],
            [
             0.8888888888888888,
             "#fdca26"
            ],
            [
             1,
             "#f0f921"
            ]
           ]
          },
          "colorway": [
           "#636efa",
           "#EF553B",
           "#00cc96",
           "#ab63fa",
           "#FFA15A",
           "#19d3f3",
           "#FF6692",
           "#B6E880",
           "#FF97FF",
           "#FECB52"
          ],
          "font": {
           "color": "#2a3f5f"
          },
          "geo": {
           "bgcolor": "white",
           "lakecolor": "white",
           "landcolor": "#E5ECF6",
           "showlakes": true,
           "showland": true,
           "subunitcolor": "white"
          },
          "hoverlabel": {
           "align": "left"
          },
          "hovermode": "closest",
          "mapbox": {
           "style": "light"
          },
          "paper_bgcolor": "white",
          "plot_bgcolor": "#E5ECF6",
          "polar": {
           "angularaxis": {
            "gridcolor": "white",
            "linecolor": "white",
            "ticks": ""
           },
           "bgcolor": "#E5ECF6",
           "radialaxis": {
            "gridcolor": "white",
            "linecolor": "white",
            "ticks": ""
           }
          },
          "scene": {
           "xaxis": {
            "backgroundcolor": "#E5ECF6",
            "gridcolor": "white",
            "gridwidth": 2,
            "linecolor": "white",
            "showbackground": true,
            "ticks": "",
            "zerolinecolor": "white"
           },
           "yaxis": {
            "backgroundcolor": "#E5ECF6",
            "gridcolor": "white",
            "gridwidth": 2,
            "linecolor": "white",
            "showbackground": true,
            "ticks": "",
            "zerolinecolor": "white"
           },
           "zaxis": {
            "backgroundcolor": "#E5ECF6",
            "gridcolor": "white",
            "gridwidth": 2,
            "linecolor": "white",
            "showbackground": true,
            "ticks": "",
            "zerolinecolor": "white"
           }
          },
          "shapedefaults": {
           "line": {
            "color": "#2a3f5f"
           }
          },
          "ternary": {
           "aaxis": {
            "gridcolor": "white",
            "linecolor": "white",
            "ticks": ""
           },
           "baxis": {
            "gridcolor": "white",
            "linecolor": "white",
            "ticks": ""
           },
           "bgcolor": "#E5ECF6",
           "caxis": {
            "gridcolor": "white",
            "linecolor": "white",
            "ticks": ""
           }
          },
          "title": {
           "x": 0.05
          },
          "xaxis": {
           "automargin": true,
           "gridcolor": "white",
           "linecolor": "white",
           "ticks": "",
           "title": {
            "standoff": 15
           },
           "zerolinecolor": "white",
           "zerolinewidth": 2
          },
          "yaxis": {
           "automargin": true,
           "gridcolor": "white",
           "linecolor": "white",
           "ticks": "",
           "title": {
            "standoff": 15
           },
           "zerolinecolor": "white",
           "zerolinewidth": 2
          }
         }
        },
        "title": {
         "font": {
          "color": "#4D5663"
         },
         "text": "Engine Size Distribution"
        },
        "xaxis": {
         "gridcolor": "#E1E5ED",
         "showgrid": true,
         "tickfont": {
          "color": "#4D5663"
         },
         "title": {
          "font": {
           "color": "#4D5663"
          },
          "text": "Engine Size"
         },
         "zerolinecolor": "#E1E5ED"
        },
        "yaxis": {
         "gridcolor": "#E1E5ED",
         "showgrid": true,
         "tickfont": {
          "color": "#4D5663"
         },
         "title": {
          "font": {
           "color": "#4D5663"
          },
          "text": "No."
         },
         "zerolinecolor": "#E1E5ED"
        }
       }
      },
      "text/html": [
       "<div>                            <div id=\"bf9f2ded-9f6c-47be-bcc9-369d18bc67a4\" class=\"plotly-graph-div\" style=\"height:525px; width:100%;\"></div>            <script type=\"text/javascript\">                require([\"plotly\"], function(Plotly) {                    window.PLOTLYENV=window.PLOTLYENV || {};\n",
       "                    window.PLOTLYENV.BASE_URL='https://plot.ly';                                    if (document.getElementById(\"bf9f2ded-9f6c-47be-bcc9-369d18bc67a4\")) {                    Plotly.newPlot(                        \"bf9f2ded-9f6c-47be-bcc9-369d18bc67a4\",                        [{\"histfunc\": \"count\", \"histnorm\": \"\", \"marker\": {\"color\": \"rgba(255, 153, 51, 1.0)\", \"line\": {\"color\": \"#4D5663\", \"width\": 1.3}}, \"name\": \"ENGINESIZE\", \"nbinsx\": 20, \"opacity\": 0.8, \"orientation\": \"v\", \"type\": \"histogram\", \"x\": [2.0, 2.4, 1.5, 3.5, 3.5, 3.5, 3.5, 3.7, 3.7, 2.4, 2.4, 3.5, 5.9, 5.9, 4.7, 4.7, 4.7, 4.7, 5.9, 2.0, 2.0, 2.0, 2.0, 2.0, 2.0, 2.0, 3.0, 3.0, 3.0, 3.0, 3.0, 4.0, 3.0, 3.0, 4.0, 6.3, 3.0, 2.0, 2.0, 3.0, 2.0, 3.0, 3.0, 3.0, 4.2, 4.2, 5.2, 5.2, 4.2, 4.2, 5.2, 5.2, 4.2, 4.2, 4.0, 3.0, 3.0, 3.0, 3.0, 3.0, 4.0, 4.0, 4.0, 3.0, 2.0, 2.0, 2.0, 2.0, 4.0, 6.0, 4.0, 6.0, 4.0, 6.0, 6.0, 6.8, 2.0, 2.0, 2.0, 2.0, 2.0, 2.0, 2.0, 2.0, 2.0, 2.0, 3.0, 3.0, 3.0, 3.0, 3.0, 2.0, 2.0, 2.0, 3.0, 3.0, 3.0, 3.0, 2.0, 2.0, 3.0, 3.0, 3.0, 4.4, 4.4, 3.0, 4.4, 4.4, 4.4, 3.0, 4.4, 4.4, 6.0, 3.0, 3.0, 3.0, 4.4, 4.4, 4.4, 4.4, 4.4, 4.4, 4.4, 4.4, 4.4, 4.4, 2.0, 3.0, 2.0, 3.0, 3.0, 4.4, 4.4, 3.0, 4.4, 2.0, 2.0, 3.0, 3.0, 3.0, 3.6, 3.6, 1.4, 1.4, 3.6, 3.6, 3.6, 3.6, 2.4, 2.0, 2.0, 2.0, 2.4, 2.0, 2.0, 2.4, 2.0, 2.0, 2.5, 3.6, 2.0, 3.6, 3.6, 3.6, 2.0, 3.6, 2.0, 3.6, 3.6, 3.0, 3.6, 3.0, 3.6, 6.2, 6.2, 6.2, 6.2, 6.2, 6.2, 6.2, 6.2, 6.2, 6.2, 3.6, 3.6, 3.6, 3.6, 3.6, 3.6, 3.6, 3.6, 6.2, 6.2, 6.2, 6.2, 6.2, 6.2, 1.4, 1.4, 1.8, 1.8, 2.0, 1.4, 1.4, 2.4, 3.6, 3.6, 2.4, 3.6, 3.6, 4.3, 5.3, 5.3, 5.3, 5.3, 5.3, 5.3, 5.3, 5.3, 5.3, 5.3, 5.3, 5.3, 4.8, 6.0, 6.0, 4.8, 6.0, 6.0, 2.5, 3.6, 3.6, 2.4, 2.0, 2.5, 2.4, 2.4, 4.3, 4.3, 5.3, 5.3, 6.2, 4.3, 4.3, 5.3, 5.3, 6.2, 1.4, 1.4, 1.8, 1.8, 1.4, 1.4, 1.8, 1.8, 1.4, 1.4, 1.4, 1.4, 1.2, 1.2, 5.3, 5.3, 5.3, 5.3, 5.3, 5.3, 5.3, 5.3, 3.6, 3.6, 1.4, 1.4, 1.4, 3.6, 2.4, 2.4, 3.6, 3.6, 2.4, 2.4, 3.6, 3.6, 5.7, 3.6, 5.7, 3.6, 3.6, 3.6, 3.6, 6.4, 3.6, 3.6, 2.4, 2.4, 3.6, 3.6, 3.6, 5.7, 5.7, 6.4, 6.4, 3.6, 3.6, 5.7, 3.6, 5.7, 3.6, 3.6, 3.6, 3.6, 3.6, 3.6, 6.4, 2.0, 2.4, 2.4, 2.0, 2.0, 2.4, 2.4, 1.4, 1.4, 5.7, 3.6, 3.6, 3.6, 3.6, 2.4, 3.6, 3.6, 3.6, 1.4, 1.4, 1.4, 1.4, 1.4, 1.4, 1.4, 1.4, 1.4, 1.4, 2.0, 4.6, 4.6, 5.4, 5.4, 4.6, 4.6, 6.8, 5.4, 5.4, 2.0, 3.5, 3.5, 3.7, 1.6, 2.0, 2.5, 1.6, 2.0, 5.4, 5.4, 2.0, 3.5, 3.5, 3.5, 3.5, 3.5, 3.5, 3.5, 6.2, 3.5, 3.5, 6.2, 3.7, 3.7, 3.7, 3.7, 5.0, 5.0, 5.0, 5.0, 3.7, 3.7, 3.7, 3.7, 5.0, 5.0, 5.0, 5.0, 6.2, 1.6, 1.6, 1.0, 1.6, 1.6, 3.5, 3.5, 3.5, 2.0, 2.0, 2.0, 2.0, 2.0, 2.0, 2.0, 2.0, 2.0, 1.5, 1.6, 2.0, 2.5, 1.5, 2.0, 2.0, 3.7, 3.7, 5.0, 5.0, 5.8, 3.7, 2.0, 3.5, 3.5, 3.5, 3.5, 3.5, 1.6, 2.5, 1.6, 2.5, 3.6, 3.6, 4.3, 5.3, 5.3, 5.3, 5.3, 5.3, 5.3, 5.3, 5.3, 5.3, 5.3, 5.3, 5.3, 4.8, 6.0, 6.0, 4.8, 6.0, 6.0, 4.3, 4.3, 5.3, 5.3, 6.2, 4.3, 4.3, 5.3, 5.3, 6.2, 2.4, 3.6, 3.6, 2.4, 3.6, 3.6, 5.3, 5.3, 5.3, 5.3, 6.2, 6.2, 6.2, 6.2, 5.3, 5.3, 5.3, 5.3, 2.4, 2.4, 2.4, 3.5, 3.5, 3.5, 2.0, 1.8, 1.8, 1.8, 3.5, 2.4, 2.4, 1.5, 1.5, 1.5, 1.5, 3.5, 3.5, 3.5, 3.5, 1.6, 1.6, 2.0, 2.0, 5.0, 3.8, 3.3, 3.3, 2.4, 2.0, 2.4, 2.0, 2.4, 2.4, 2.4, 2.0, 2.0, 2.4, 2.0, 2.4, 1.6, 1.6, 1.6, 1.6, 3.7, 3.7, 3.5, 3.5, 3.7, 3.7, 3.7, 3.7, 3.7, 3.7, 5.6, 3.7, 5.6, 3.5, 3.7, 3.5, 3.5, 2.5, 3.7, 5.0, 5.6, 3.0, 3.0, 5.0, 2.0, 3.0, 5.0, 5.0, 5.0, 3.0, 5.0, 5.0, 3.0, 5.0, 5.0, 5.0, 5.0, 5.0, 5.0, 5.0, 5.0, 5.0, 5.0, 2.4, 3.2, 2.4, 3.2, 2.4, 3.2, 2.4, 3.2, 2.0, 2.0, 2.4, 2.4, 2.4, 2.4, 2.4, 5.7, 3.0, 3.6, 3.6, 6.4, 2.0, 2.0, 2.4, 2.4, 2.4, 2.4, 2.4, 3.6, 3.6, 3.6, 3.6, 3.3, 1.8, 1.8, 2.0, 2.0, 1.6, 1.6, 2.0, 2.0, 1.6, 1.6, 2.0, 2.0, 2.0, 2.4, 1.6, 1.6, 1.6, 2.0, 2.0, 3.5, 2.4, 3.3, 2.4, 3.3, 1.6, 1.6, 2.0, 2.0, 2.4, 2.4, 2.0, 2.4, 6.5, 5.2, 5.2, 2.0, 3.0, 2.0, 2.0, 5.0, 5.0, 5.0, 3.0, 3.0, 3.0, 5.0, 5.0, 5.0, 3.0, 3.0, 3.0, 5.0, 5.0, 5.0, 1.8, 2.5, 3.5, 3.5, 3.5, 3.5, 4.6, 2.5, 2.5, 2.5, 3.5, 3.5, 3.5, 5.0, 4.6, 4.6, 4.6, 5.0, 5.7, 3.5, 3.5, 3.5, 3.5, 3.7, 3.5, 2.0, 3.7, 3.7, 2.0, 3.7, 2.0, 5.4, 5.4, 3.0, 3.0, 4.7, 4.7, 3.8, 3.0, 2.0, 2.0, 2.5, 2.0, 2.5, 3.7, 3.7, 1.5, 1.5, 2.0, 2.0, 2.5, 2.5, 2.0, 2.0, 2.0, 2.5, 2.5, 2.0, 2.5, 2.5, 2.5, 2.5, 2.5, 2.0, 2.0, 2.0, 2.0, 1.8, 1.8, 3.5, 3.5, 3.5, 3.5, 3.5, 3.5, 6.2, 6.2, 4.7, 5.5, 2.0, 2.0, 4.7, 5.5, 5.5, 2.1, 3.5, 3.5, 3.5, 3.5, 3.5, 3.5, 3.5, 4.7, 4.7, 4.7, 5.5, 5.5, 5.5, 5.5, 5.5, 5.5, 3.0, 4.7, 4.7, 5.5, 2.1, 3.5, 3.5, 3.5, 3.0, 4.7, 5.5, 4.7, 4.7, 5.5, 4.7, 5.5, 6.0, 1.8, 1.8, 3.5, 5.5, 6.2, 6.2, 6.2, 1.6, 1.6, 1.6, 1.6, 1.6, 1.6, 1.6, 1.6, 1.6, 1.6, 1.6, 1.6, 1.6, 1.6, 1.6, 1.6, 1.6, 1.6, 1.6, 1.6, 1.6, 1.6, 1.6, 1.6, 1.6, 1.6, 1.6, 1.6, 1.6, 1.6, 1.6, 1.6, 1.6, 1.6, 1.6, 1.6, 2.0, 2.0, 2.4, 2.0, 2.0, 2.0, 2.0, 2.0, 1.2, 1.2, 2.4, 2.4, 3.0, 2.0, 2.0, 2.0, 3.7, 3.7, 3.7, 3.7, 2.5, 3.5, 5.6, 2.5, 2.5, 4.0, 4.0, 4.0, 3.8, 1.6, 1.6, 1.6, 3.5, 3.5, 2.0, 3.5, 3.5, 2.5, 3.5, 2.5, 2.5, 1.8, 1.8, 5.6, 5.6, 1.6, 1.6, 4.0, 4.0, 3.4, 3.4, 3.4, 3.4, 3.4, 3.4, 3.8, 3.8, 3.8, 3.8, 3.4, 3.4, 3.8, 3.8, 3.8, 3.8, 3.8, 3.8, 3.8, 3.8, 3.8, 2.7, 2.7, 3.4, 3.4, 3.6, 3.6, 3.0, 4.8, 4.8, 3.0, 4.8, 2.7, 2.7, 3.4, 3.4, 3.6, 3.6, 3.0, 3.0, 4.8, 3.0, 4.8, 4.8, 5.7, 5.7, 5.7, 5.7, 3.0, 3.6, 3.6, 3.0, 3.6, 3.6, 3.6, 3.6, 3.6, 6.6, 6.6, 6.7, 6.7, 6.7, 6.7, 6.6, 2.0, 2.0, 1.3, 2.5, 2.5, 2.4, 2.4, 1.8, 1.8, 1.0, 1.0, 8.4, 8.4, 2.0, 2.0, 2.0, 2.5, 2.5, 2.0, 2.0, 2.5, 2.5, 2.0, 2.0, 2.5, 2.5, 2.5, 2.5, 3.6, 2.5, 2.5, 3.6, 3.6, 2.0, 2.0, 2.0, 4.0, 4.0, 3.5, 2.5, 3.5, 2.5, 2.5, 1.8, 1.8, 1.8, 1.8, 1.8, 1.8, 1.8, 1.8, 4.0, 4.0, 2.7, 3.5, 3.5, 3.5, 3.5, 1.8, 1.5, 1.8, 2.5, 2.5, 2.5, 5.7, 3.5, 3.5, 2.7, 2.7, 4.0, 2.7, 2.7, 4.0, 4.0, 4.0, 4.6, 5.7, 4.6, 5.7, 2.7, 3.5, 2.7, 3.5, 1.5, 1.5, 1.8, 1.8, 2.0, 2.0, 2.5, 2.5, 1.8, 2.0, 2.0, 2.5, 2.0, 2.0, 2.0, 2.0, 3.6, 2.0, 2.5, 2.5, 2.0, 2.0, 1.8, 1.8, 2.0, 2.0, 2.0, 2.0, 2.0, 2.0, 1.4, 1.8, 1.8, 2.5, 2.5, 3.6, 2.0, 2.0, 3.6, 2.0, 2.0, 2.0, 3.6, 3.0, 2.5, 2.5, 3.0, 3.2, 3.0, 3.2, 3.0, 3.2, 3.0, 3.2, 3.2]}],                        {\"barmode\": \"overlay\", \"legend\": {\"bgcolor\": \"#F5F6F9\", \"font\": {\"color\": \"#4D5663\"}}, \"paper_bgcolor\": \"#F5F6F9\", \"plot_bgcolor\": \"#F5F6F9\", \"template\": {\"data\": {\"bar\": [{\"error_x\": {\"color\": \"#2a3f5f\"}, \"error_y\": {\"color\": \"#2a3f5f\"}, \"marker\": {\"line\": {\"color\": \"#E5ECF6\", \"width\": 0.5}}, \"type\": \"bar\"}], \"barpolar\": [{\"marker\": {\"line\": {\"color\": \"#E5ECF6\", \"width\": 0.5}}, \"type\": \"barpolar\"}], \"carpet\": [{\"aaxis\": {\"endlinecolor\": \"#2a3f5f\", \"gridcolor\": \"white\", \"linecolor\": \"white\", \"minorgridcolor\": \"white\", \"startlinecolor\": \"#2a3f5f\"}, \"baxis\": {\"endlinecolor\": \"#2a3f5f\", \"gridcolor\": \"white\", \"linecolor\": \"white\", \"minorgridcolor\": \"white\", \"startlinecolor\": \"#2a3f5f\"}, \"type\": \"carpet\"}], \"choropleth\": [{\"colorbar\": {\"outlinewidth\": 0, \"ticks\": \"\"}, \"type\": \"choropleth\"}], \"contour\": [{\"colorbar\": {\"outlinewidth\": 0, \"ticks\": \"\"}, \"colorscale\": [[0.0, \"#0d0887\"], [0.1111111111111111, \"#46039f\"], [0.2222222222222222, \"#7201a8\"], [0.3333333333333333, \"#9c179e\"], [0.4444444444444444, \"#bd3786\"], [0.5555555555555556, \"#d8576b\"], [0.6666666666666666, \"#ed7953\"], [0.7777777777777778, \"#fb9f3a\"], [0.8888888888888888, \"#fdca26\"], [1.0, \"#f0f921\"]], \"type\": \"contour\"}], \"contourcarpet\": [{\"colorbar\": {\"outlinewidth\": 0, \"ticks\": \"\"}, \"type\": \"contourcarpet\"}], \"heatmap\": [{\"colorbar\": {\"outlinewidth\": 0, \"ticks\": \"\"}, \"colorscale\": [[0.0, \"#0d0887\"], [0.1111111111111111, \"#46039f\"], [0.2222222222222222, \"#7201a8\"], [0.3333333333333333, \"#9c179e\"], [0.4444444444444444, \"#bd3786\"], [0.5555555555555556, \"#d8576b\"], [0.6666666666666666, \"#ed7953\"], [0.7777777777777778, \"#fb9f3a\"], [0.8888888888888888, \"#fdca26\"], [1.0, \"#f0f921\"]], \"type\": \"heatmap\"}], \"heatmapgl\": [{\"colorbar\": {\"outlinewidth\": 0, \"ticks\": \"\"}, \"colorscale\": [[0.0, \"#0d0887\"], [0.1111111111111111, \"#46039f\"], [0.2222222222222222, \"#7201a8\"], [0.3333333333333333, \"#9c179e\"], [0.4444444444444444, \"#bd3786\"], [0.5555555555555556, \"#d8576b\"], [0.6666666666666666, \"#ed7953\"], [0.7777777777777778, \"#fb9f3a\"], [0.8888888888888888, \"#fdca26\"], [1.0, \"#f0f921\"]], \"type\": \"heatmapgl\"}], \"histogram\": [{\"marker\": {\"colorbar\": {\"outlinewidth\": 0, \"ticks\": \"\"}}, \"type\": \"histogram\"}], \"histogram2d\": [{\"colorbar\": {\"outlinewidth\": 0, \"ticks\": \"\"}, \"colorscale\": [[0.0, \"#0d0887\"], [0.1111111111111111, \"#46039f\"], [0.2222222222222222, \"#7201a8\"], [0.3333333333333333, \"#9c179e\"], [0.4444444444444444, \"#bd3786\"], [0.5555555555555556, \"#d8576b\"], [0.6666666666666666, \"#ed7953\"], [0.7777777777777778, \"#fb9f3a\"], [0.8888888888888888, \"#fdca26\"], [1.0, \"#f0f921\"]], \"type\": \"histogram2d\"}], \"histogram2dcontour\": [{\"colorbar\": {\"outlinewidth\": 0, \"ticks\": \"\"}, \"colorscale\": [[0.0, \"#0d0887\"], [0.1111111111111111, \"#46039f\"], [0.2222222222222222, \"#7201a8\"], [0.3333333333333333, \"#9c179e\"], [0.4444444444444444, \"#bd3786\"], [0.5555555555555556, \"#d8576b\"], [0.6666666666666666, \"#ed7953\"], [0.7777777777777778, \"#fb9f3a\"], [0.8888888888888888, \"#fdca26\"], [1.0, \"#f0f921\"]], \"type\": \"histogram2dcontour\"}], \"mesh3d\": [{\"colorbar\": {\"outlinewidth\": 0, \"ticks\": \"\"}, \"type\": \"mesh3d\"}], \"parcoords\": [{\"line\": {\"colorbar\": {\"outlinewidth\": 0, \"ticks\": \"\"}}, \"type\": \"parcoords\"}], \"pie\": [{\"automargin\": true, \"type\": \"pie\"}], \"scatter\": [{\"marker\": {\"colorbar\": {\"outlinewidth\": 0, \"ticks\": \"\"}}, \"type\": \"scatter\"}], \"scatter3d\": [{\"line\": {\"colorbar\": {\"outlinewidth\": 0, \"ticks\": \"\"}}, \"marker\": {\"colorbar\": {\"outlinewidth\": 0, \"ticks\": \"\"}}, \"type\": \"scatter3d\"}], \"scattercarpet\": [{\"marker\": {\"colorbar\": {\"outlinewidth\": 0, \"ticks\": \"\"}}, \"type\": \"scattercarpet\"}], \"scattergeo\": [{\"marker\": {\"colorbar\": {\"outlinewidth\": 0, \"ticks\": \"\"}}, \"type\": \"scattergeo\"}], \"scattergl\": [{\"marker\": {\"colorbar\": {\"outlinewidth\": 0, \"ticks\": \"\"}}, \"type\": \"scattergl\"}], \"scattermapbox\": [{\"marker\": {\"colorbar\": {\"outlinewidth\": 0, \"ticks\": \"\"}}, \"type\": \"scattermapbox\"}], \"scatterpolar\": [{\"marker\": {\"colorbar\": {\"outlinewidth\": 0, \"ticks\": \"\"}}, \"type\": \"scatterpolar\"}], \"scatterpolargl\": [{\"marker\": {\"colorbar\": {\"outlinewidth\": 0, \"ticks\": \"\"}}, \"type\": \"scatterpolargl\"}], \"scatterternary\": [{\"marker\": {\"colorbar\": {\"outlinewidth\": 0, \"ticks\": \"\"}}, \"type\": \"scatterternary\"}], \"surface\": [{\"colorbar\": {\"outlinewidth\": 0, \"ticks\": \"\"}, \"colorscale\": [[0.0, \"#0d0887\"], [0.1111111111111111, \"#46039f\"], [0.2222222222222222, \"#7201a8\"], [0.3333333333333333, \"#9c179e\"], [0.4444444444444444, \"#bd3786\"], [0.5555555555555556, \"#d8576b\"], [0.6666666666666666, \"#ed7953\"], [0.7777777777777778, \"#fb9f3a\"], [0.8888888888888888, \"#fdca26\"], [1.0, \"#f0f921\"]], \"type\": \"surface\"}], \"table\": [{\"cells\": {\"fill\": {\"color\": \"#EBF0F8\"}, \"line\": {\"color\": \"white\"}}, \"header\": {\"fill\": {\"color\": \"#C8D4E3\"}, \"line\": {\"color\": \"white\"}}, \"type\": \"table\"}]}, \"layout\": {\"annotationdefaults\": {\"arrowcolor\": \"#2a3f5f\", \"arrowhead\": 0, \"arrowwidth\": 1}, \"autotypenumbers\": \"strict\", \"coloraxis\": {\"colorbar\": {\"outlinewidth\": 0, \"ticks\": \"\"}}, \"colorscale\": {\"diverging\": [[0, \"#8e0152\"], [0.1, \"#c51b7d\"], [0.2, \"#de77ae\"], [0.3, \"#f1b6da\"], [0.4, \"#fde0ef\"], [0.5, \"#f7f7f7\"], [0.6, \"#e6f5d0\"], [0.7, \"#b8e186\"], [0.8, \"#7fbc41\"], [0.9, \"#4d9221\"], [1, \"#276419\"]], \"sequential\": [[0.0, \"#0d0887\"], [0.1111111111111111, \"#46039f\"], [0.2222222222222222, \"#7201a8\"], [0.3333333333333333, \"#9c179e\"], [0.4444444444444444, \"#bd3786\"], [0.5555555555555556, \"#d8576b\"], [0.6666666666666666, \"#ed7953\"], [0.7777777777777778, \"#fb9f3a\"], [0.8888888888888888, \"#fdca26\"], [1.0, \"#f0f921\"]], \"sequentialminus\": [[0.0, \"#0d0887\"], [0.1111111111111111, \"#46039f\"], [0.2222222222222222, \"#7201a8\"], [0.3333333333333333, \"#9c179e\"], [0.4444444444444444, \"#bd3786\"], [0.5555555555555556, \"#d8576b\"], [0.6666666666666666, \"#ed7953\"], [0.7777777777777778, \"#fb9f3a\"], [0.8888888888888888, \"#fdca26\"], [1.0, \"#f0f921\"]]}, \"colorway\": [\"#636efa\", \"#EF553B\", \"#00cc96\", \"#ab63fa\", \"#FFA15A\", \"#19d3f3\", \"#FF6692\", \"#B6E880\", \"#FF97FF\", \"#FECB52\"], \"font\": {\"color\": \"#2a3f5f\"}, \"geo\": {\"bgcolor\": \"white\", \"lakecolor\": \"white\", \"landcolor\": \"#E5ECF6\", \"showlakes\": true, \"showland\": true, \"subunitcolor\": \"white\"}, \"hoverlabel\": {\"align\": \"left\"}, \"hovermode\": \"closest\", \"mapbox\": {\"style\": \"light\"}, \"paper_bgcolor\": \"white\", \"plot_bgcolor\": \"#E5ECF6\", \"polar\": {\"angularaxis\": {\"gridcolor\": \"white\", \"linecolor\": \"white\", \"ticks\": \"\"}, \"bgcolor\": \"#E5ECF6\", \"radialaxis\": {\"gridcolor\": \"white\", \"linecolor\": \"white\", \"ticks\": \"\"}}, \"scene\": {\"xaxis\": {\"backgroundcolor\": \"#E5ECF6\", \"gridcolor\": \"white\", \"gridwidth\": 2, \"linecolor\": \"white\", \"showbackground\": true, \"ticks\": \"\", \"zerolinecolor\": \"white\"}, \"yaxis\": {\"backgroundcolor\": \"#E5ECF6\", \"gridcolor\": \"white\", \"gridwidth\": 2, \"linecolor\": \"white\", \"showbackground\": true, \"ticks\": \"\", \"zerolinecolor\": \"white\"}, \"zaxis\": {\"backgroundcolor\": \"#E5ECF6\", \"gridcolor\": \"white\", \"gridwidth\": 2, \"linecolor\": \"white\", \"showbackground\": true, \"ticks\": \"\", \"zerolinecolor\": \"white\"}}, \"shapedefaults\": {\"line\": {\"color\": \"#2a3f5f\"}}, \"ternary\": {\"aaxis\": {\"gridcolor\": \"white\", \"linecolor\": \"white\", \"ticks\": \"\"}, \"baxis\": {\"gridcolor\": \"white\", \"linecolor\": \"white\", \"ticks\": \"\"}, \"bgcolor\": \"#E5ECF6\", \"caxis\": {\"gridcolor\": \"white\", \"linecolor\": \"white\", \"ticks\": \"\"}}, \"title\": {\"x\": 0.05}, \"xaxis\": {\"automargin\": true, \"gridcolor\": \"white\", \"linecolor\": \"white\", \"ticks\": \"\", \"title\": {\"standoff\": 15}, \"zerolinecolor\": \"white\", \"zerolinewidth\": 2}, \"yaxis\": {\"automargin\": true, \"gridcolor\": \"white\", \"linecolor\": \"white\", \"ticks\": \"\", \"title\": {\"standoff\": 15}, \"zerolinecolor\": \"white\", \"zerolinewidth\": 2}}}, \"title\": {\"font\": {\"color\": \"#4D5663\"}, \"text\": \"Engine Size Distribution\"}, \"xaxis\": {\"gridcolor\": \"#E1E5ED\", \"showgrid\": true, \"tickfont\": {\"color\": \"#4D5663\"}, \"title\": {\"font\": {\"color\": \"#4D5663\"}, \"text\": \"Engine Size\"}, \"zerolinecolor\": \"#E1E5ED\"}, \"yaxis\": {\"gridcolor\": \"#E1E5ED\", \"showgrid\": true, \"tickfont\": {\"color\": \"#4D5663\"}, \"title\": {\"font\": {\"color\": \"#4D5663\"}, \"text\": \"No.\"}, \"zerolinecolor\": \"#E1E5ED\"}},                        {\"showLink\": true, \"linkText\": \"Export to plot.ly\", \"plotlyServerURL\": \"https://plot.ly\", \"responsive\": true}                    ).then(function(){\n",
       "                            \n",
       "var gd = document.getElementById('bf9f2ded-9f6c-47be-bcc9-369d18bc67a4');\n",
       "var x = new MutationObserver(function (mutations, observer) {{\n",
       "        var display = window.getComputedStyle(gd).display;\n",
       "        if (!display || display === 'none') {{\n",
       "            console.log([gd, 'removed!']);\n",
       "            Plotly.purge(gd);\n",
       "            observer.disconnect();\n",
       "        }}\n",
       "}});\n",
       "\n",
       "// Listen for the removal of the full notebook cells\n",
       "var notebookContainer = gd.closest('#notebook-container');\n",
       "if (notebookContainer) {{\n",
       "    x.observe(notebookContainer, {childList: true});\n",
       "}}\n",
       "\n",
       "// Listen for the clearing of the current output cell\n",
       "var outputEl = gd.closest('.output');\n",
       "if (outputEl) {{\n",
       "    x.observe(outputEl, {childList: true});\n",
       "}}\n",
       "\n",
       "                        })                };                });            </script>        </div>"
      ]
     },
     "metadata": {},
     "output_type": "display_data"
    }
   ],
   "source": [
    "co2_df['ENGINESIZE'].iplot(kind='hist',yTitle= 'No.', xTitle='Engine Size' ,title='Engine Size Distribution', bins=20)"
   ]
  },
  {
   "cell_type": "code",
   "execution_count": 36,
   "metadata": {},
   "outputs": [
    {
     "data": {
      "text/plain": [
       "1067"
      ]
     },
     "execution_count": 36,
     "metadata": {},
     "output_type": "execute_result"
    }
   ],
   "source": [
    "7 + 108 + 197 + 128 + 84 + 227 + 44 + 57 + 55 + 92 + 50 + 14 + 2 + 2"
   ]
  },
  {
   "cell_type": "code",
   "execution_count": 37,
   "metadata": {},
   "outputs": [
    {
     "data": {
      "application/vnd.plotly.v1+json": {
       "config": {
        "linkText": "Export to plot.ly",
        "plotlyServerURL": "https://plot.ly",
        "showLink": true
       },
       "data": [
        {
         "boxpoints": false,
         "line": {
          "width": 1.3
         },
         "marker": {
          "color": "rgba(255, 153, 51, 1.0)"
         },
         "name": "ENGINESIZE",
         "orientation": "v",
         "type": "box",
         "y": [
          2,
          2.4,
          1.5,
          3.5,
          3.5,
          3.5,
          3.5,
          3.7,
          3.7,
          2.4,
          2.4,
          3.5,
          5.9,
          5.9,
          4.7,
          4.7,
          4.7,
          4.7,
          5.9,
          2,
          2,
          2,
          2,
          2,
          2,
          2,
          3,
          3,
          3,
          3,
          3,
          4,
          3,
          3,
          4,
          6.3,
          3,
          2,
          2,
          3,
          2,
          3,
          3,
          3,
          4.2,
          4.2,
          5.2,
          5.2,
          4.2,
          4.2,
          5.2,
          5.2,
          4.2,
          4.2,
          4,
          3,
          3,
          3,
          3,
          3,
          4,
          4,
          4,
          3,
          2,
          2,
          2,
          2,
          4,
          6,
          4,
          6,
          4,
          6,
          6,
          6.8,
          2,
          2,
          2,
          2,
          2,
          2,
          2,
          2,
          2,
          2,
          3,
          3,
          3,
          3,
          3,
          2,
          2,
          2,
          3,
          3,
          3,
          3,
          2,
          2,
          3,
          3,
          3,
          4.4,
          4.4,
          3,
          4.4,
          4.4,
          4.4,
          3,
          4.4,
          4.4,
          6,
          3,
          3,
          3,
          4.4,
          4.4,
          4.4,
          4.4,
          4.4,
          4.4,
          4.4,
          4.4,
          4.4,
          4.4,
          2,
          3,
          2,
          3,
          3,
          4.4,
          4.4,
          3,
          4.4,
          2,
          2,
          3,
          3,
          3,
          3.6,
          3.6,
          1.4,
          1.4,
          3.6,
          3.6,
          3.6,
          3.6,
          2.4,
          2,
          2,
          2,
          2.4,
          2,
          2,
          2.4,
          2,
          2,
          2.5,
          3.6,
          2,
          3.6,
          3.6,
          3.6,
          2,
          3.6,
          2,
          3.6,
          3.6,
          3,
          3.6,
          3,
          3.6,
          6.2,
          6.2,
          6.2,
          6.2,
          6.2,
          6.2,
          6.2,
          6.2,
          6.2,
          6.2,
          3.6,
          3.6,
          3.6,
          3.6,
          3.6,
          3.6,
          3.6,
          3.6,
          6.2,
          6.2,
          6.2,
          6.2,
          6.2,
          6.2,
          1.4,
          1.4,
          1.8,
          1.8,
          2,
          1.4,
          1.4,
          2.4,
          3.6,
          3.6,
          2.4,
          3.6,
          3.6,
          4.3,
          5.3,
          5.3,
          5.3,
          5.3,
          5.3,
          5.3,
          5.3,
          5.3,
          5.3,
          5.3,
          5.3,
          5.3,
          4.8,
          6,
          6,
          4.8,
          6,
          6,
          2.5,
          3.6,
          3.6,
          2.4,
          2,
          2.5,
          2.4,
          2.4,
          4.3,
          4.3,
          5.3,
          5.3,
          6.2,
          4.3,
          4.3,
          5.3,
          5.3,
          6.2,
          1.4,
          1.4,
          1.8,
          1.8,
          1.4,
          1.4,
          1.8,
          1.8,
          1.4,
          1.4,
          1.4,
          1.4,
          1.2,
          1.2,
          5.3,
          5.3,
          5.3,
          5.3,
          5.3,
          5.3,
          5.3,
          5.3,
          3.6,
          3.6,
          1.4,
          1.4,
          1.4,
          3.6,
          2.4,
          2.4,
          3.6,
          3.6,
          2.4,
          2.4,
          3.6,
          3.6,
          5.7,
          3.6,
          5.7,
          3.6,
          3.6,
          3.6,
          3.6,
          6.4,
          3.6,
          3.6,
          2.4,
          2.4,
          3.6,
          3.6,
          3.6,
          5.7,
          5.7,
          6.4,
          6.4,
          3.6,
          3.6,
          5.7,
          3.6,
          5.7,
          3.6,
          3.6,
          3.6,
          3.6,
          3.6,
          3.6,
          6.4,
          2,
          2.4,
          2.4,
          2,
          2,
          2.4,
          2.4,
          1.4,
          1.4,
          5.7,
          3.6,
          3.6,
          3.6,
          3.6,
          2.4,
          3.6,
          3.6,
          3.6,
          1.4,
          1.4,
          1.4,
          1.4,
          1.4,
          1.4,
          1.4,
          1.4,
          1.4,
          1.4,
          2,
          4.6,
          4.6,
          5.4,
          5.4,
          4.6,
          4.6,
          6.8,
          5.4,
          5.4,
          2,
          3.5,
          3.5,
          3.7,
          1.6,
          2,
          2.5,
          1.6,
          2,
          5.4,
          5.4,
          2,
          3.5,
          3.5,
          3.5,
          3.5,
          3.5,
          3.5,
          3.5,
          6.2,
          3.5,
          3.5,
          6.2,
          3.7,
          3.7,
          3.7,
          3.7,
          5,
          5,
          5,
          5,
          3.7,
          3.7,
          3.7,
          3.7,
          5,
          5,
          5,
          5,
          6.2,
          1.6,
          1.6,
          1,
          1.6,
          1.6,
          3.5,
          3.5,
          3.5,
          2,
          2,
          2,
          2,
          2,
          2,
          2,
          2,
          2,
          1.5,
          1.6,
          2,
          2.5,
          1.5,
          2,
          2,
          3.7,
          3.7,
          5,
          5,
          5.8,
          3.7,
          2,
          3.5,
          3.5,
          3.5,
          3.5,
          3.5,
          1.6,
          2.5,
          1.6,
          2.5,
          3.6,
          3.6,
          4.3,
          5.3,
          5.3,
          5.3,
          5.3,
          5.3,
          5.3,
          5.3,
          5.3,
          5.3,
          5.3,
          5.3,
          5.3,
          4.8,
          6,
          6,
          4.8,
          6,
          6,
          4.3,
          4.3,
          5.3,
          5.3,
          6.2,
          4.3,
          4.3,
          5.3,
          5.3,
          6.2,
          2.4,
          3.6,
          3.6,
          2.4,
          3.6,
          3.6,
          5.3,
          5.3,
          5.3,
          5.3,
          6.2,
          6.2,
          6.2,
          6.2,
          5.3,
          5.3,
          5.3,
          5.3,
          2.4,
          2.4,
          2.4,
          3.5,
          3.5,
          3.5,
          2,
          1.8,
          1.8,
          1.8,
          3.5,
          2.4,
          2.4,
          1.5,
          1.5,
          1.5,
          1.5,
          3.5,
          3.5,
          3.5,
          3.5,
          1.6,
          1.6,
          2,
          2,
          5,
          3.8,
          3.3,
          3.3,
          2.4,
          2,
          2.4,
          2,
          2.4,
          2.4,
          2.4,
          2,
          2,
          2.4,
          2,
          2.4,
          1.6,
          1.6,
          1.6,
          1.6,
          3.7,
          3.7,
          3.5,
          3.5,
          3.7,
          3.7,
          3.7,
          3.7,
          3.7,
          3.7,
          5.6,
          3.7,
          5.6,
          3.5,
          3.7,
          3.5,
          3.5,
          2.5,
          3.7,
          5,
          5.6,
          3,
          3,
          5,
          2,
          3,
          5,
          5,
          5,
          3,
          5,
          5,
          3,
          5,
          5,
          5,
          5,
          5,
          5,
          5,
          5,
          5,
          5,
          2.4,
          3.2,
          2.4,
          3.2,
          2.4,
          3.2,
          2.4,
          3.2,
          2,
          2,
          2.4,
          2.4,
          2.4,
          2.4,
          2.4,
          5.7,
          3,
          3.6,
          3.6,
          6.4,
          2,
          2,
          2.4,
          2.4,
          2.4,
          2.4,
          2.4,
          3.6,
          3.6,
          3.6,
          3.6,
          3.3,
          1.8,
          1.8,
          2,
          2,
          1.6,
          1.6,
          2,
          2,
          1.6,
          1.6,
          2,
          2,
          2,
          2.4,
          1.6,
          1.6,
          1.6,
          2,
          2,
          3.5,
          2.4,
          3.3,
          2.4,
          3.3,
          1.6,
          1.6,
          2,
          2,
          2.4,
          2.4,
          2,
          2.4,
          6.5,
          5.2,
          5.2,
          2,
          3,
          2,
          2,
          5,
          5,
          5,
          3,
          3,
          3,
          5,
          5,
          5,
          3,
          3,
          3,
          5,
          5,
          5,
          1.8,
          2.5,
          3.5,
          3.5,
          3.5,
          3.5,
          4.6,
          2.5,
          2.5,
          2.5,
          3.5,
          3.5,
          3.5,
          5,
          4.6,
          4.6,
          4.6,
          5,
          5.7,
          3.5,
          3.5,
          3.5,
          3.5,
          3.7,
          3.5,
          2,
          3.7,
          3.7,
          2,
          3.7,
          2,
          5.4,
          5.4,
          3,
          3,
          4.7,
          4.7,
          3.8,
          3,
          2,
          2,
          2.5,
          2,
          2.5,
          3.7,
          3.7,
          1.5,
          1.5,
          2,
          2,
          2.5,
          2.5,
          2,
          2,
          2,
          2.5,
          2.5,
          2,
          2.5,
          2.5,
          2.5,
          2.5,
          2.5,
          2,
          2,
          2,
          2,
          1.8,
          1.8,
          3.5,
          3.5,
          3.5,
          3.5,
          3.5,
          3.5,
          6.2,
          6.2,
          4.7,
          5.5,
          2,
          2,
          4.7,
          5.5,
          5.5,
          2.1,
          3.5,
          3.5,
          3.5,
          3.5,
          3.5,
          3.5,
          3.5,
          4.7,
          4.7,
          4.7,
          5.5,
          5.5,
          5.5,
          5.5,
          5.5,
          5.5,
          3,
          4.7,
          4.7,
          5.5,
          2.1,
          3.5,
          3.5,
          3.5,
          3,
          4.7,
          5.5,
          4.7,
          4.7,
          5.5,
          4.7,
          5.5,
          6,
          1.8,
          1.8,
          3.5,
          5.5,
          6.2,
          6.2,
          6.2,
          1.6,
          1.6,
          1.6,
          1.6,
          1.6,
          1.6,
          1.6,
          1.6,
          1.6,
          1.6,
          1.6,
          1.6,
          1.6,
          1.6,
          1.6,
          1.6,
          1.6,
          1.6,
          1.6,
          1.6,
          1.6,
          1.6,
          1.6,
          1.6,
          1.6,
          1.6,
          1.6,
          1.6,
          1.6,
          1.6,
          1.6,
          1.6,
          1.6,
          1.6,
          1.6,
          1.6,
          2,
          2,
          2.4,
          2,
          2,
          2,
          2,
          2,
          1.2,
          1.2,
          2.4,
          2.4,
          3,
          2,
          2,
          2,
          3.7,
          3.7,
          3.7,
          3.7,
          2.5,
          3.5,
          5.6,
          2.5,
          2.5,
          4,
          4,
          4,
          3.8,
          1.6,
          1.6,
          1.6,
          3.5,
          3.5,
          2,
          3.5,
          3.5,
          2.5,
          3.5,
          2.5,
          2.5,
          1.8,
          1.8,
          5.6,
          5.6,
          1.6,
          1.6,
          4,
          4,
          3.4,
          3.4,
          3.4,
          3.4,
          3.4,
          3.4,
          3.8,
          3.8,
          3.8,
          3.8,
          3.4,
          3.4,
          3.8,
          3.8,
          3.8,
          3.8,
          3.8,
          3.8,
          3.8,
          3.8,
          3.8,
          2.7,
          2.7,
          3.4,
          3.4,
          3.6,
          3.6,
          3,
          4.8,
          4.8,
          3,
          4.8,
          2.7,
          2.7,
          3.4,
          3.4,
          3.6,
          3.6,
          3,
          3,
          4.8,
          3,
          4.8,
          4.8,
          5.7,
          5.7,
          5.7,
          5.7,
          3,
          3.6,
          3.6,
          3,
          3.6,
          3.6,
          3.6,
          3.6,
          3.6,
          6.6,
          6.6,
          6.7,
          6.7,
          6.7,
          6.7,
          6.6,
          2,
          2,
          1.3,
          2.5,
          2.5,
          2.4,
          2.4,
          1.8,
          1.8,
          1,
          1,
          8.4,
          8.4,
          2,
          2,
          2,
          2.5,
          2.5,
          2,
          2,
          2.5,
          2.5,
          2,
          2,
          2.5,
          2.5,
          2.5,
          2.5,
          3.6,
          2.5,
          2.5,
          3.6,
          3.6,
          2,
          2,
          2,
          4,
          4,
          3.5,
          2.5,
          3.5,
          2.5,
          2.5,
          1.8,
          1.8,
          1.8,
          1.8,
          1.8,
          1.8,
          1.8,
          1.8,
          4,
          4,
          2.7,
          3.5,
          3.5,
          3.5,
          3.5,
          1.8,
          1.5,
          1.8,
          2.5,
          2.5,
          2.5,
          5.7,
          3.5,
          3.5,
          2.7,
          2.7,
          4,
          2.7,
          2.7,
          4,
          4,
          4,
          4.6,
          5.7,
          4.6,
          5.7,
          2.7,
          3.5,
          2.7,
          3.5,
          1.5,
          1.5,
          1.8,
          1.8,
          2,
          2,
          2.5,
          2.5,
          1.8,
          2,
          2,
          2.5,
          2,
          2,
          2,
          2,
          3.6,
          2,
          2.5,
          2.5,
          2,
          2,
          1.8,
          1.8,
          2,
          2,
          2,
          2,
          2,
          2,
          1.4,
          1.8,
          1.8,
          2.5,
          2.5,
          3.6,
          2,
          2,
          3.6,
          2,
          2,
          2,
          3.6,
          3,
          2.5,
          2.5,
          3,
          3.2,
          3,
          3.2,
          3,
          3.2,
          3,
          3.2,
          3.2
         ]
        }
       ],
       "layout": {
        "legend": {
         "bgcolor": "#F5F6F9",
         "font": {
          "color": "#4D5663"
         }
        },
        "paper_bgcolor": "#F5F6F9",
        "plot_bgcolor": "#F5F6F9",
        "template": {
         "data": {
          "bar": [
           {
            "error_x": {
             "color": "#2a3f5f"
            },
            "error_y": {
             "color": "#2a3f5f"
            },
            "marker": {
             "line": {
              "color": "#E5ECF6",
              "width": 0.5
             }
            },
            "type": "bar"
           }
          ],
          "barpolar": [
           {
            "marker": {
             "line": {
              "color": "#E5ECF6",
              "width": 0.5
             }
            },
            "type": "barpolar"
           }
          ],
          "carpet": [
           {
            "aaxis": {
             "endlinecolor": "#2a3f5f",
             "gridcolor": "white",
             "linecolor": "white",
             "minorgridcolor": "white",
             "startlinecolor": "#2a3f5f"
            },
            "baxis": {
             "endlinecolor": "#2a3f5f",
             "gridcolor": "white",
             "linecolor": "white",
             "minorgridcolor": "white",
             "startlinecolor": "#2a3f5f"
            },
            "type": "carpet"
           }
          ],
          "choropleth": [
           {
            "colorbar": {
             "outlinewidth": 0,
             "ticks": ""
            },
            "type": "choropleth"
           }
          ],
          "contour": [
           {
            "colorbar": {
             "outlinewidth": 0,
             "ticks": ""
            },
            "colorscale": [
             [
              0,
              "#0d0887"
             ],
             [
              0.1111111111111111,
              "#46039f"
             ],
             [
              0.2222222222222222,
              "#7201a8"
             ],
             [
              0.3333333333333333,
              "#9c179e"
             ],
             [
              0.4444444444444444,
              "#bd3786"
             ],
             [
              0.5555555555555556,
              "#d8576b"
             ],
             [
              0.6666666666666666,
              "#ed7953"
             ],
             [
              0.7777777777777778,
              "#fb9f3a"
             ],
             [
              0.8888888888888888,
              "#fdca26"
             ],
             [
              1,
              "#f0f921"
             ]
            ],
            "type": "contour"
           }
          ],
          "contourcarpet": [
           {
            "colorbar": {
             "outlinewidth": 0,
             "ticks": ""
            },
            "type": "contourcarpet"
           }
          ],
          "heatmap": [
           {
            "colorbar": {
             "outlinewidth": 0,
             "ticks": ""
            },
            "colorscale": [
             [
              0,
              "#0d0887"
             ],
             [
              0.1111111111111111,
              "#46039f"
             ],
             [
              0.2222222222222222,
              "#7201a8"
             ],
             [
              0.3333333333333333,
              "#9c179e"
             ],
             [
              0.4444444444444444,
              "#bd3786"
             ],
             [
              0.5555555555555556,
              "#d8576b"
             ],
             [
              0.6666666666666666,
              "#ed7953"
             ],
             [
              0.7777777777777778,
              "#fb9f3a"
             ],
             [
              0.8888888888888888,
              "#fdca26"
             ],
             [
              1,
              "#f0f921"
             ]
            ],
            "type": "heatmap"
           }
          ],
          "heatmapgl": [
           {
            "colorbar": {
             "outlinewidth": 0,
             "ticks": ""
            },
            "colorscale": [
             [
              0,
              "#0d0887"
             ],
             [
              0.1111111111111111,
              "#46039f"
             ],
             [
              0.2222222222222222,
              "#7201a8"
             ],
             [
              0.3333333333333333,
              "#9c179e"
             ],
             [
              0.4444444444444444,
              "#bd3786"
             ],
             [
              0.5555555555555556,
              "#d8576b"
             ],
             [
              0.6666666666666666,
              "#ed7953"
             ],
             [
              0.7777777777777778,
              "#fb9f3a"
             ],
             [
              0.8888888888888888,
              "#fdca26"
             ],
             [
              1,
              "#f0f921"
             ]
            ],
            "type": "heatmapgl"
           }
          ],
          "histogram": [
           {
            "marker": {
             "colorbar": {
              "outlinewidth": 0,
              "ticks": ""
             }
            },
            "type": "histogram"
           }
          ],
          "histogram2d": [
           {
            "colorbar": {
             "outlinewidth": 0,
             "ticks": ""
            },
            "colorscale": [
             [
              0,
              "#0d0887"
             ],
             [
              0.1111111111111111,
              "#46039f"
             ],
             [
              0.2222222222222222,
              "#7201a8"
             ],
             [
              0.3333333333333333,
              "#9c179e"
             ],
             [
              0.4444444444444444,
              "#bd3786"
             ],
             [
              0.5555555555555556,
              "#d8576b"
             ],
             [
              0.6666666666666666,
              "#ed7953"
             ],
             [
              0.7777777777777778,
              "#fb9f3a"
             ],
             [
              0.8888888888888888,
              "#fdca26"
             ],
             [
              1,
              "#f0f921"
             ]
            ],
            "type": "histogram2d"
           }
          ],
          "histogram2dcontour": [
           {
            "colorbar": {
             "outlinewidth": 0,
             "ticks": ""
            },
            "colorscale": [
             [
              0,
              "#0d0887"
             ],
             [
              0.1111111111111111,
              "#46039f"
             ],
             [
              0.2222222222222222,
              "#7201a8"
             ],
             [
              0.3333333333333333,
              "#9c179e"
             ],
             [
              0.4444444444444444,
              "#bd3786"
             ],
             [
              0.5555555555555556,
              "#d8576b"
             ],
             [
              0.6666666666666666,
              "#ed7953"
             ],
             [
              0.7777777777777778,
              "#fb9f3a"
             ],
             [
              0.8888888888888888,
              "#fdca26"
             ],
             [
              1,
              "#f0f921"
             ]
            ],
            "type": "histogram2dcontour"
           }
          ],
          "mesh3d": [
           {
            "colorbar": {
             "outlinewidth": 0,
             "ticks": ""
            },
            "type": "mesh3d"
           }
          ],
          "parcoords": [
           {
            "line": {
             "colorbar": {
              "outlinewidth": 0,
              "ticks": ""
             }
            },
            "type": "parcoords"
           }
          ],
          "pie": [
           {
            "automargin": true,
            "type": "pie"
           }
          ],
          "scatter": [
           {
            "marker": {
             "colorbar": {
              "outlinewidth": 0,
              "ticks": ""
             }
            },
            "type": "scatter"
           }
          ],
          "scatter3d": [
           {
            "line": {
             "colorbar": {
              "outlinewidth": 0,
              "ticks": ""
             }
            },
            "marker": {
             "colorbar": {
              "outlinewidth": 0,
              "ticks": ""
             }
            },
            "type": "scatter3d"
           }
          ],
          "scattercarpet": [
           {
            "marker": {
             "colorbar": {
              "outlinewidth": 0,
              "ticks": ""
             }
            },
            "type": "scattercarpet"
           }
          ],
          "scattergeo": [
           {
            "marker": {
             "colorbar": {
              "outlinewidth": 0,
              "ticks": ""
             }
            },
            "type": "scattergeo"
           }
          ],
          "scattergl": [
           {
            "marker": {
             "colorbar": {
              "outlinewidth": 0,
              "ticks": ""
             }
            },
            "type": "scattergl"
           }
          ],
          "scattermapbox": [
           {
            "marker": {
             "colorbar": {
              "outlinewidth": 0,
              "ticks": ""
             }
            },
            "type": "scattermapbox"
           }
          ],
          "scatterpolar": [
           {
            "marker": {
             "colorbar": {
              "outlinewidth": 0,
              "ticks": ""
             }
            },
            "type": "scatterpolar"
           }
          ],
          "scatterpolargl": [
           {
            "marker": {
             "colorbar": {
              "outlinewidth": 0,
              "ticks": ""
             }
            },
            "type": "scatterpolargl"
           }
          ],
          "scatterternary": [
           {
            "marker": {
             "colorbar": {
              "outlinewidth": 0,
              "ticks": ""
             }
            },
            "type": "scatterternary"
           }
          ],
          "surface": [
           {
            "colorbar": {
             "outlinewidth": 0,
             "ticks": ""
            },
            "colorscale": [
             [
              0,
              "#0d0887"
             ],
             [
              0.1111111111111111,
              "#46039f"
             ],
             [
              0.2222222222222222,
              "#7201a8"
             ],
             [
              0.3333333333333333,
              "#9c179e"
             ],
             [
              0.4444444444444444,
              "#bd3786"
             ],
             [
              0.5555555555555556,
              "#d8576b"
             ],
             [
              0.6666666666666666,
              "#ed7953"
             ],
             [
              0.7777777777777778,
              "#fb9f3a"
             ],
             [
              0.8888888888888888,
              "#fdca26"
             ],
             [
              1,
              "#f0f921"
             ]
            ],
            "type": "surface"
           }
          ],
          "table": [
           {
            "cells": {
             "fill": {
              "color": "#EBF0F8"
             },
             "line": {
              "color": "white"
             }
            },
            "header": {
             "fill": {
              "color": "#C8D4E3"
             },
             "line": {
              "color": "white"
             }
            },
            "type": "table"
           }
          ]
         },
         "layout": {
          "annotationdefaults": {
           "arrowcolor": "#2a3f5f",
           "arrowhead": 0,
           "arrowwidth": 1
          },
          "autotypenumbers": "strict",
          "coloraxis": {
           "colorbar": {
            "outlinewidth": 0,
            "ticks": ""
           }
          },
          "colorscale": {
           "diverging": [
            [
             0,
             "#8e0152"
            ],
            [
             0.1,
             "#c51b7d"
            ],
            [
             0.2,
             "#de77ae"
            ],
            [
             0.3,
             "#f1b6da"
            ],
            [
             0.4,
             "#fde0ef"
            ],
            [
             0.5,
             "#f7f7f7"
            ],
            [
             0.6,
             "#e6f5d0"
            ],
            [
             0.7,
             "#b8e186"
            ],
            [
             0.8,
             "#7fbc41"
            ],
            [
             0.9,
             "#4d9221"
            ],
            [
             1,
             "#276419"
            ]
           ],
           "sequential": [
            [
             0,
             "#0d0887"
            ],
            [
             0.1111111111111111,
             "#46039f"
            ],
            [
             0.2222222222222222,
             "#7201a8"
            ],
            [
             0.3333333333333333,
             "#9c179e"
            ],
            [
             0.4444444444444444,
             "#bd3786"
            ],
            [
             0.5555555555555556,
             "#d8576b"
            ],
            [
             0.6666666666666666,
             "#ed7953"
            ],
            [
             0.7777777777777778,
             "#fb9f3a"
            ],
            [
             0.8888888888888888,
             "#fdca26"
            ],
            [
             1,
             "#f0f921"
            ]
           ],
           "sequentialminus": [
            [
             0,
             "#0d0887"
            ],
            [
             0.1111111111111111,
             "#46039f"
            ],
            [
             0.2222222222222222,
             "#7201a8"
            ],
            [
             0.3333333333333333,
             "#9c179e"
            ],
            [
             0.4444444444444444,
             "#bd3786"
            ],
            [
             0.5555555555555556,
             "#d8576b"
            ],
            [
             0.6666666666666666,
             "#ed7953"
            ],
            [
             0.7777777777777778,
             "#fb9f3a"
            ],
            [
             0.8888888888888888,
             "#fdca26"
            ],
            [
             1,
             "#f0f921"
            ]
           ]
          },
          "colorway": [
           "#636efa",
           "#EF553B",
           "#00cc96",
           "#ab63fa",
           "#FFA15A",
           "#19d3f3",
           "#FF6692",
           "#B6E880",
           "#FF97FF",
           "#FECB52"
          ],
          "font": {
           "color": "#2a3f5f"
          },
          "geo": {
           "bgcolor": "white",
           "lakecolor": "white",
           "landcolor": "#E5ECF6",
           "showlakes": true,
           "showland": true,
           "subunitcolor": "white"
          },
          "hoverlabel": {
           "align": "left"
          },
          "hovermode": "closest",
          "mapbox": {
           "style": "light"
          },
          "paper_bgcolor": "white",
          "plot_bgcolor": "#E5ECF6",
          "polar": {
           "angularaxis": {
            "gridcolor": "white",
            "linecolor": "white",
            "ticks": ""
           },
           "bgcolor": "#E5ECF6",
           "radialaxis": {
            "gridcolor": "white",
            "linecolor": "white",
            "ticks": ""
           }
          },
          "scene": {
           "xaxis": {
            "backgroundcolor": "#E5ECF6",
            "gridcolor": "white",
            "gridwidth": 2,
            "linecolor": "white",
            "showbackground": true,
            "ticks": "",
            "zerolinecolor": "white"
           },
           "yaxis": {
            "backgroundcolor": "#E5ECF6",
            "gridcolor": "white",
            "gridwidth": 2,
            "linecolor": "white",
            "showbackground": true,
            "ticks": "",
            "zerolinecolor": "white"
           },
           "zaxis": {
            "backgroundcolor": "#E5ECF6",
            "gridcolor": "white",
            "gridwidth": 2,
            "linecolor": "white",
            "showbackground": true,
            "ticks": "",
            "zerolinecolor": "white"
           }
          },
          "shapedefaults": {
           "line": {
            "color": "#2a3f5f"
           }
          },
          "ternary": {
           "aaxis": {
            "gridcolor": "white",
            "linecolor": "white",
            "ticks": ""
           },
           "baxis": {
            "gridcolor": "white",
            "linecolor": "white",
            "ticks": ""
           },
           "bgcolor": "#E5ECF6",
           "caxis": {
            "gridcolor": "white",
            "linecolor": "white",
            "ticks": ""
           }
          },
          "title": {
           "x": 0.05
          },
          "xaxis": {
           "automargin": true,
           "gridcolor": "white",
           "linecolor": "white",
           "ticks": "",
           "title": {
            "standoff": 15
           },
           "zerolinecolor": "white",
           "zerolinewidth": 2
          },
          "yaxis": {
           "automargin": true,
           "gridcolor": "white",
           "linecolor": "white",
           "ticks": "",
           "title": {
            "standoff": 15
           },
           "zerolinecolor": "white",
           "zerolinewidth": 2
          }
         }
        },
        "title": {
         "font": {
          "color": "#4D5663"
         },
         "text": "Engine Size Mean"
        },
        "xaxis": {
         "gridcolor": "#E1E5ED",
         "showgrid": true,
         "tickfont": {
          "color": "#4D5663"
         },
         "title": {
          "font": {
           "color": "#4D5663"
          },
          "text": ""
         },
         "zerolinecolor": "#E1E5ED"
        },
        "yaxis": {
         "gridcolor": "#E1E5ED",
         "showgrid": true,
         "tickfont": {
          "color": "#4D5663"
         },
         "title": {
          "font": {
           "color": "#4D5663"
          },
          "text": ""
         },
         "zerolinecolor": "#E1E5ED"
        }
       }
      },
      "text/html": [
       "<div>                            <div id=\"c6acffd2-d6a1-4bdc-b6a7-95ab91d8170c\" class=\"plotly-graph-div\" style=\"height:525px; width:100%;\"></div>            <script type=\"text/javascript\">                require([\"plotly\"], function(Plotly) {                    window.PLOTLYENV=window.PLOTLYENV || {};\n",
       "                    window.PLOTLYENV.BASE_URL='https://plot.ly';                                    if (document.getElementById(\"c6acffd2-d6a1-4bdc-b6a7-95ab91d8170c\")) {                    Plotly.newPlot(                        \"c6acffd2-d6a1-4bdc-b6a7-95ab91d8170c\",                        [{\"boxpoints\": false, \"line\": {\"width\": 1.3}, \"marker\": {\"color\": \"rgba(255, 153, 51, 1.0)\"}, \"name\": \"ENGINESIZE\", \"orientation\": \"v\", \"type\": \"box\", \"y\": [2.0, 2.4, 1.5, 3.5, 3.5, 3.5, 3.5, 3.7, 3.7, 2.4, 2.4, 3.5, 5.9, 5.9, 4.7, 4.7, 4.7, 4.7, 5.9, 2.0, 2.0, 2.0, 2.0, 2.0, 2.0, 2.0, 3.0, 3.0, 3.0, 3.0, 3.0, 4.0, 3.0, 3.0, 4.0, 6.3, 3.0, 2.0, 2.0, 3.0, 2.0, 3.0, 3.0, 3.0, 4.2, 4.2, 5.2, 5.2, 4.2, 4.2, 5.2, 5.2, 4.2, 4.2, 4.0, 3.0, 3.0, 3.0, 3.0, 3.0, 4.0, 4.0, 4.0, 3.0, 2.0, 2.0, 2.0, 2.0, 4.0, 6.0, 4.0, 6.0, 4.0, 6.0, 6.0, 6.8, 2.0, 2.0, 2.0, 2.0, 2.0, 2.0, 2.0, 2.0, 2.0, 2.0, 3.0, 3.0, 3.0, 3.0, 3.0, 2.0, 2.0, 2.0, 3.0, 3.0, 3.0, 3.0, 2.0, 2.0, 3.0, 3.0, 3.0, 4.4, 4.4, 3.0, 4.4, 4.4, 4.4, 3.0, 4.4, 4.4, 6.0, 3.0, 3.0, 3.0, 4.4, 4.4, 4.4, 4.4, 4.4, 4.4, 4.4, 4.4, 4.4, 4.4, 2.0, 3.0, 2.0, 3.0, 3.0, 4.4, 4.4, 3.0, 4.4, 2.0, 2.0, 3.0, 3.0, 3.0, 3.6, 3.6, 1.4, 1.4, 3.6, 3.6, 3.6, 3.6, 2.4, 2.0, 2.0, 2.0, 2.4, 2.0, 2.0, 2.4, 2.0, 2.0, 2.5, 3.6, 2.0, 3.6, 3.6, 3.6, 2.0, 3.6, 2.0, 3.6, 3.6, 3.0, 3.6, 3.0, 3.6, 6.2, 6.2, 6.2, 6.2, 6.2, 6.2, 6.2, 6.2, 6.2, 6.2, 3.6, 3.6, 3.6, 3.6, 3.6, 3.6, 3.6, 3.6, 6.2, 6.2, 6.2, 6.2, 6.2, 6.2, 1.4, 1.4, 1.8, 1.8, 2.0, 1.4, 1.4, 2.4, 3.6, 3.6, 2.4, 3.6, 3.6, 4.3, 5.3, 5.3, 5.3, 5.3, 5.3, 5.3, 5.3, 5.3, 5.3, 5.3, 5.3, 5.3, 4.8, 6.0, 6.0, 4.8, 6.0, 6.0, 2.5, 3.6, 3.6, 2.4, 2.0, 2.5, 2.4, 2.4, 4.3, 4.3, 5.3, 5.3, 6.2, 4.3, 4.3, 5.3, 5.3, 6.2, 1.4, 1.4, 1.8, 1.8, 1.4, 1.4, 1.8, 1.8, 1.4, 1.4, 1.4, 1.4, 1.2, 1.2, 5.3, 5.3, 5.3, 5.3, 5.3, 5.3, 5.3, 5.3, 3.6, 3.6, 1.4, 1.4, 1.4, 3.6, 2.4, 2.4, 3.6, 3.6, 2.4, 2.4, 3.6, 3.6, 5.7, 3.6, 5.7, 3.6, 3.6, 3.6, 3.6, 6.4, 3.6, 3.6, 2.4, 2.4, 3.6, 3.6, 3.6, 5.7, 5.7, 6.4, 6.4, 3.6, 3.6, 5.7, 3.6, 5.7, 3.6, 3.6, 3.6, 3.6, 3.6, 3.6, 6.4, 2.0, 2.4, 2.4, 2.0, 2.0, 2.4, 2.4, 1.4, 1.4, 5.7, 3.6, 3.6, 3.6, 3.6, 2.4, 3.6, 3.6, 3.6, 1.4, 1.4, 1.4, 1.4, 1.4, 1.4, 1.4, 1.4, 1.4, 1.4, 2.0, 4.6, 4.6, 5.4, 5.4, 4.6, 4.6, 6.8, 5.4, 5.4, 2.0, 3.5, 3.5, 3.7, 1.6, 2.0, 2.5, 1.6, 2.0, 5.4, 5.4, 2.0, 3.5, 3.5, 3.5, 3.5, 3.5, 3.5, 3.5, 6.2, 3.5, 3.5, 6.2, 3.7, 3.7, 3.7, 3.7, 5.0, 5.0, 5.0, 5.0, 3.7, 3.7, 3.7, 3.7, 5.0, 5.0, 5.0, 5.0, 6.2, 1.6, 1.6, 1.0, 1.6, 1.6, 3.5, 3.5, 3.5, 2.0, 2.0, 2.0, 2.0, 2.0, 2.0, 2.0, 2.0, 2.0, 1.5, 1.6, 2.0, 2.5, 1.5, 2.0, 2.0, 3.7, 3.7, 5.0, 5.0, 5.8, 3.7, 2.0, 3.5, 3.5, 3.5, 3.5, 3.5, 1.6, 2.5, 1.6, 2.5, 3.6, 3.6, 4.3, 5.3, 5.3, 5.3, 5.3, 5.3, 5.3, 5.3, 5.3, 5.3, 5.3, 5.3, 5.3, 4.8, 6.0, 6.0, 4.8, 6.0, 6.0, 4.3, 4.3, 5.3, 5.3, 6.2, 4.3, 4.3, 5.3, 5.3, 6.2, 2.4, 3.6, 3.6, 2.4, 3.6, 3.6, 5.3, 5.3, 5.3, 5.3, 6.2, 6.2, 6.2, 6.2, 5.3, 5.3, 5.3, 5.3, 2.4, 2.4, 2.4, 3.5, 3.5, 3.5, 2.0, 1.8, 1.8, 1.8, 3.5, 2.4, 2.4, 1.5, 1.5, 1.5, 1.5, 3.5, 3.5, 3.5, 3.5, 1.6, 1.6, 2.0, 2.0, 5.0, 3.8, 3.3, 3.3, 2.4, 2.0, 2.4, 2.0, 2.4, 2.4, 2.4, 2.0, 2.0, 2.4, 2.0, 2.4, 1.6, 1.6, 1.6, 1.6, 3.7, 3.7, 3.5, 3.5, 3.7, 3.7, 3.7, 3.7, 3.7, 3.7, 5.6, 3.7, 5.6, 3.5, 3.7, 3.5, 3.5, 2.5, 3.7, 5.0, 5.6, 3.0, 3.0, 5.0, 2.0, 3.0, 5.0, 5.0, 5.0, 3.0, 5.0, 5.0, 3.0, 5.0, 5.0, 5.0, 5.0, 5.0, 5.0, 5.0, 5.0, 5.0, 5.0, 2.4, 3.2, 2.4, 3.2, 2.4, 3.2, 2.4, 3.2, 2.0, 2.0, 2.4, 2.4, 2.4, 2.4, 2.4, 5.7, 3.0, 3.6, 3.6, 6.4, 2.0, 2.0, 2.4, 2.4, 2.4, 2.4, 2.4, 3.6, 3.6, 3.6, 3.6, 3.3, 1.8, 1.8, 2.0, 2.0, 1.6, 1.6, 2.0, 2.0, 1.6, 1.6, 2.0, 2.0, 2.0, 2.4, 1.6, 1.6, 1.6, 2.0, 2.0, 3.5, 2.4, 3.3, 2.4, 3.3, 1.6, 1.6, 2.0, 2.0, 2.4, 2.4, 2.0, 2.4, 6.5, 5.2, 5.2, 2.0, 3.0, 2.0, 2.0, 5.0, 5.0, 5.0, 3.0, 3.0, 3.0, 5.0, 5.0, 5.0, 3.0, 3.0, 3.0, 5.0, 5.0, 5.0, 1.8, 2.5, 3.5, 3.5, 3.5, 3.5, 4.6, 2.5, 2.5, 2.5, 3.5, 3.5, 3.5, 5.0, 4.6, 4.6, 4.6, 5.0, 5.7, 3.5, 3.5, 3.5, 3.5, 3.7, 3.5, 2.0, 3.7, 3.7, 2.0, 3.7, 2.0, 5.4, 5.4, 3.0, 3.0, 4.7, 4.7, 3.8, 3.0, 2.0, 2.0, 2.5, 2.0, 2.5, 3.7, 3.7, 1.5, 1.5, 2.0, 2.0, 2.5, 2.5, 2.0, 2.0, 2.0, 2.5, 2.5, 2.0, 2.5, 2.5, 2.5, 2.5, 2.5, 2.0, 2.0, 2.0, 2.0, 1.8, 1.8, 3.5, 3.5, 3.5, 3.5, 3.5, 3.5, 6.2, 6.2, 4.7, 5.5, 2.0, 2.0, 4.7, 5.5, 5.5, 2.1, 3.5, 3.5, 3.5, 3.5, 3.5, 3.5, 3.5, 4.7, 4.7, 4.7, 5.5, 5.5, 5.5, 5.5, 5.5, 5.5, 3.0, 4.7, 4.7, 5.5, 2.1, 3.5, 3.5, 3.5, 3.0, 4.7, 5.5, 4.7, 4.7, 5.5, 4.7, 5.5, 6.0, 1.8, 1.8, 3.5, 5.5, 6.2, 6.2, 6.2, 1.6, 1.6, 1.6, 1.6, 1.6, 1.6, 1.6, 1.6, 1.6, 1.6, 1.6, 1.6, 1.6, 1.6, 1.6, 1.6, 1.6, 1.6, 1.6, 1.6, 1.6, 1.6, 1.6, 1.6, 1.6, 1.6, 1.6, 1.6, 1.6, 1.6, 1.6, 1.6, 1.6, 1.6, 1.6, 1.6, 2.0, 2.0, 2.4, 2.0, 2.0, 2.0, 2.0, 2.0, 1.2, 1.2, 2.4, 2.4, 3.0, 2.0, 2.0, 2.0, 3.7, 3.7, 3.7, 3.7, 2.5, 3.5, 5.6, 2.5, 2.5, 4.0, 4.0, 4.0, 3.8, 1.6, 1.6, 1.6, 3.5, 3.5, 2.0, 3.5, 3.5, 2.5, 3.5, 2.5, 2.5, 1.8, 1.8, 5.6, 5.6, 1.6, 1.6, 4.0, 4.0, 3.4, 3.4, 3.4, 3.4, 3.4, 3.4, 3.8, 3.8, 3.8, 3.8, 3.4, 3.4, 3.8, 3.8, 3.8, 3.8, 3.8, 3.8, 3.8, 3.8, 3.8, 2.7, 2.7, 3.4, 3.4, 3.6, 3.6, 3.0, 4.8, 4.8, 3.0, 4.8, 2.7, 2.7, 3.4, 3.4, 3.6, 3.6, 3.0, 3.0, 4.8, 3.0, 4.8, 4.8, 5.7, 5.7, 5.7, 5.7, 3.0, 3.6, 3.6, 3.0, 3.6, 3.6, 3.6, 3.6, 3.6, 6.6, 6.6, 6.7, 6.7, 6.7, 6.7, 6.6, 2.0, 2.0, 1.3, 2.5, 2.5, 2.4, 2.4, 1.8, 1.8, 1.0, 1.0, 8.4, 8.4, 2.0, 2.0, 2.0, 2.5, 2.5, 2.0, 2.0, 2.5, 2.5, 2.0, 2.0, 2.5, 2.5, 2.5, 2.5, 3.6, 2.5, 2.5, 3.6, 3.6, 2.0, 2.0, 2.0, 4.0, 4.0, 3.5, 2.5, 3.5, 2.5, 2.5, 1.8, 1.8, 1.8, 1.8, 1.8, 1.8, 1.8, 1.8, 4.0, 4.0, 2.7, 3.5, 3.5, 3.5, 3.5, 1.8, 1.5, 1.8, 2.5, 2.5, 2.5, 5.7, 3.5, 3.5, 2.7, 2.7, 4.0, 2.7, 2.7, 4.0, 4.0, 4.0, 4.6, 5.7, 4.6, 5.7, 2.7, 3.5, 2.7, 3.5, 1.5, 1.5, 1.8, 1.8, 2.0, 2.0, 2.5, 2.5, 1.8, 2.0, 2.0, 2.5, 2.0, 2.0, 2.0, 2.0, 3.6, 2.0, 2.5, 2.5, 2.0, 2.0, 1.8, 1.8, 2.0, 2.0, 2.0, 2.0, 2.0, 2.0, 1.4, 1.8, 1.8, 2.5, 2.5, 3.6, 2.0, 2.0, 3.6, 2.0, 2.0, 2.0, 3.6, 3.0, 2.5, 2.5, 3.0, 3.2, 3.0, 3.2, 3.0, 3.2, 3.0, 3.2, 3.2]}],                        {\"legend\": {\"bgcolor\": \"#F5F6F9\", \"font\": {\"color\": \"#4D5663\"}}, \"paper_bgcolor\": \"#F5F6F9\", \"plot_bgcolor\": \"#F5F6F9\", \"template\": {\"data\": {\"bar\": [{\"error_x\": {\"color\": \"#2a3f5f\"}, \"error_y\": {\"color\": \"#2a3f5f\"}, \"marker\": {\"line\": {\"color\": \"#E5ECF6\", \"width\": 0.5}}, \"type\": \"bar\"}], \"barpolar\": [{\"marker\": {\"line\": {\"color\": \"#E5ECF6\", \"width\": 0.5}}, \"type\": \"barpolar\"}], \"carpet\": [{\"aaxis\": {\"endlinecolor\": \"#2a3f5f\", \"gridcolor\": \"white\", \"linecolor\": \"white\", \"minorgridcolor\": \"white\", \"startlinecolor\": \"#2a3f5f\"}, \"baxis\": {\"endlinecolor\": \"#2a3f5f\", \"gridcolor\": \"white\", \"linecolor\": \"white\", \"minorgridcolor\": \"white\", \"startlinecolor\": \"#2a3f5f\"}, \"type\": \"carpet\"}], \"choropleth\": [{\"colorbar\": {\"outlinewidth\": 0, \"ticks\": \"\"}, \"type\": \"choropleth\"}], \"contour\": [{\"colorbar\": {\"outlinewidth\": 0, \"ticks\": \"\"}, \"colorscale\": [[0.0, \"#0d0887\"], [0.1111111111111111, \"#46039f\"], [0.2222222222222222, \"#7201a8\"], [0.3333333333333333, \"#9c179e\"], [0.4444444444444444, \"#bd3786\"], [0.5555555555555556, \"#d8576b\"], [0.6666666666666666, \"#ed7953\"], [0.7777777777777778, \"#fb9f3a\"], [0.8888888888888888, \"#fdca26\"], [1.0, \"#f0f921\"]], \"type\": \"contour\"}], \"contourcarpet\": [{\"colorbar\": {\"outlinewidth\": 0, \"ticks\": \"\"}, \"type\": \"contourcarpet\"}], \"heatmap\": [{\"colorbar\": {\"outlinewidth\": 0, \"ticks\": \"\"}, \"colorscale\": [[0.0, \"#0d0887\"], [0.1111111111111111, \"#46039f\"], [0.2222222222222222, \"#7201a8\"], [0.3333333333333333, \"#9c179e\"], [0.4444444444444444, \"#bd3786\"], [0.5555555555555556, \"#d8576b\"], [0.6666666666666666, \"#ed7953\"], [0.7777777777777778, \"#fb9f3a\"], [0.8888888888888888, \"#fdca26\"], [1.0, \"#f0f921\"]], \"type\": \"heatmap\"}], \"heatmapgl\": [{\"colorbar\": {\"outlinewidth\": 0, \"ticks\": \"\"}, \"colorscale\": [[0.0, \"#0d0887\"], [0.1111111111111111, \"#46039f\"], [0.2222222222222222, \"#7201a8\"], [0.3333333333333333, \"#9c179e\"], [0.4444444444444444, \"#bd3786\"], [0.5555555555555556, \"#d8576b\"], [0.6666666666666666, \"#ed7953\"], [0.7777777777777778, \"#fb9f3a\"], [0.8888888888888888, \"#fdca26\"], [1.0, \"#f0f921\"]], \"type\": \"heatmapgl\"}], \"histogram\": [{\"marker\": {\"colorbar\": {\"outlinewidth\": 0, \"ticks\": \"\"}}, \"type\": \"histogram\"}], \"histogram2d\": [{\"colorbar\": {\"outlinewidth\": 0, \"ticks\": \"\"}, \"colorscale\": [[0.0, \"#0d0887\"], [0.1111111111111111, \"#46039f\"], [0.2222222222222222, \"#7201a8\"], [0.3333333333333333, \"#9c179e\"], [0.4444444444444444, \"#bd3786\"], [0.5555555555555556, \"#d8576b\"], [0.6666666666666666, \"#ed7953\"], [0.7777777777777778, \"#fb9f3a\"], [0.8888888888888888, \"#fdca26\"], [1.0, \"#f0f921\"]], \"type\": \"histogram2d\"}], \"histogram2dcontour\": [{\"colorbar\": {\"outlinewidth\": 0, \"ticks\": \"\"}, \"colorscale\": [[0.0, \"#0d0887\"], [0.1111111111111111, \"#46039f\"], [0.2222222222222222, \"#7201a8\"], [0.3333333333333333, \"#9c179e\"], [0.4444444444444444, \"#bd3786\"], [0.5555555555555556, \"#d8576b\"], [0.6666666666666666, \"#ed7953\"], [0.7777777777777778, \"#fb9f3a\"], [0.8888888888888888, \"#fdca26\"], [1.0, \"#f0f921\"]], \"type\": \"histogram2dcontour\"}], \"mesh3d\": [{\"colorbar\": {\"outlinewidth\": 0, \"ticks\": \"\"}, \"type\": \"mesh3d\"}], \"parcoords\": [{\"line\": {\"colorbar\": {\"outlinewidth\": 0, \"ticks\": \"\"}}, \"type\": \"parcoords\"}], \"pie\": [{\"automargin\": true, \"type\": \"pie\"}], \"scatter\": [{\"marker\": {\"colorbar\": {\"outlinewidth\": 0, \"ticks\": \"\"}}, \"type\": \"scatter\"}], \"scatter3d\": [{\"line\": {\"colorbar\": {\"outlinewidth\": 0, \"ticks\": \"\"}}, \"marker\": {\"colorbar\": {\"outlinewidth\": 0, \"ticks\": \"\"}}, \"type\": \"scatter3d\"}], \"scattercarpet\": [{\"marker\": {\"colorbar\": {\"outlinewidth\": 0, \"ticks\": \"\"}}, \"type\": \"scattercarpet\"}], \"scattergeo\": [{\"marker\": {\"colorbar\": {\"outlinewidth\": 0, \"ticks\": \"\"}}, \"type\": \"scattergeo\"}], \"scattergl\": [{\"marker\": {\"colorbar\": {\"outlinewidth\": 0, \"ticks\": \"\"}}, \"type\": \"scattergl\"}], \"scattermapbox\": [{\"marker\": {\"colorbar\": {\"outlinewidth\": 0, \"ticks\": \"\"}}, \"type\": \"scattermapbox\"}], \"scatterpolar\": [{\"marker\": {\"colorbar\": {\"outlinewidth\": 0, \"ticks\": \"\"}}, \"type\": \"scatterpolar\"}], \"scatterpolargl\": [{\"marker\": {\"colorbar\": {\"outlinewidth\": 0, \"ticks\": \"\"}}, \"type\": \"scatterpolargl\"}], \"scatterternary\": [{\"marker\": {\"colorbar\": {\"outlinewidth\": 0, \"ticks\": \"\"}}, \"type\": \"scatterternary\"}], \"surface\": [{\"colorbar\": {\"outlinewidth\": 0, \"ticks\": \"\"}, \"colorscale\": [[0.0, \"#0d0887\"], [0.1111111111111111, \"#46039f\"], [0.2222222222222222, \"#7201a8\"], [0.3333333333333333, \"#9c179e\"], [0.4444444444444444, \"#bd3786\"], [0.5555555555555556, \"#d8576b\"], [0.6666666666666666, \"#ed7953\"], [0.7777777777777778, \"#fb9f3a\"], [0.8888888888888888, \"#fdca26\"], [1.0, \"#f0f921\"]], \"type\": \"surface\"}], \"table\": [{\"cells\": {\"fill\": {\"color\": \"#EBF0F8\"}, \"line\": {\"color\": \"white\"}}, \"header\": {\"fill\": {\"color\": \"#C8D4E3\"}, \"line\": {\"color\": \"white\"}}, \"type\": \"table\"}]}, \"layout\": {\"annotationdefaults\": {\"arrowcolor\": \"#2a3f5f\", \"arrowhead\": 0, \"arrowwidth\": 1}, \"autotypenumbers\": \"strict\", \"coloraxis\": {\"colorbar\": {\"outlinewidth\": 0, \"ticks\": \"\"}}, \"colorscale\": {\"diverging\": [[0, \"#8e0152\"], [0.1, \"#c51b7d\"], [0.2, \"#de77ae\"], [0.3, \"#f1b6da\"], [0.4, \"#fde0ef\"], [0.5, \"#f7f7f7\"], [0.6, \"#e6f5d0\"], [0.7, \"#b8e186\"], [0.8, \"#7fbc41\"], [0.9, \"#4d9221\"], [1, \"#276419\"]], \"sequential\": [[0.0, \"#0d0887\"], [0.1111111111111111, \"#46039f\"], [0.2222222222222222, \"#7201a8\"], [0.3333333333333333, \"#9c179e\"], [0.4444444444444444, \"#bd3786\"], [0.5555555555555556, \"#d8576b\"], [0.6666666666666666, \"#ed7953\"], [0.7777777777777778, \"#fb9f3a\"], [0.8888888888888888, \"#fdca26\"], [1.0, \"#f0f921\"]], \"sequentialminus\": [[0.0, \"#0d0887\"], [0.1111111111111111, \"#46039f\"], [0.2222222222222222, \"#7201a8\"], [0.3333333333333333, \"#9c179e\"], [0.4444444444444444, \"#bd3786\"], [0.5555555555555556, \"#d8576b\"], [0.6666666666666666, \"#ed7953\"], [0.7777777777777778, \"#fb9f3a\"], [0.8888888888888888, \"#fdca26\"], [1.0, \"#f0f921\"]]}, \"colorway\": [\"#636efa\", \"#EF553B\", \"#00cc96\", \"#ab63fa\", \"#FFA15A\", \"#19d3f3\", \"#FF6692\", \"#B6E880\", \"#FF97FF\", \"#FECB52\"], \"font\": {\"color\": \"#2a3f5f\"}, \"geo\": {\"bgcolor\": \"white\", \"lakecolor\": \"white\", \"landcolor\": \"#E5ECF6\", \"showlakes\": true, \"showland\": true, \"subunitcolor\": \"white\"}, \"hoverlabel\": {\"align\": \"left\"}, \"hovermode\": \"closest\", \"mapbox\": {\"style\": \"light\"}, \"paper_bgcolor\": \"white\", \"plot_bgcolor\": \"#E5ECF6\", \"polar\": {\"angularaxis\": {\"gridcolor\": \"white\", \"linecolor\": \"white\", \"ticks\": \"\"}, \"bgcolor\": \"#E5ECF6\", \"radialaxis\": {\"gridcolor\": \"white\", \"linecolor\": \"white\", \"ticks\": \"\"}}, \"scene\": {\"xaxis\": {\"backgroundcolor\": \"#E5ECF6\", \"gridcolor\": \"white\", \"gridwidth\": 2, \"linecolor\": \"white\", \"showbackground\": true, \"ticks\": \"\", \"zerolinecolor\": \"white\"}, \"yaxis\": {\"backgroundcolor\": \"#E5ECF6\", \"gridcolor\": \"white\", \"gridwidth\": 2, \"linecolor\": \"white\", \"showbackground\": true, \"ticks\": \"\", \"zerolinecolor\": \"white\"}, \"zaxis\": {\"backgroundcolor\": \"#E5ECF6\", \"gridcolor\": \"white\", \"gridwidth\": 2, \"linecolor\": \"white\", \"showbackground\": true, \"ticks\": \"\", \"zerolinecolor\": \"white\"}}, \"shapedefaults\": {\"line\": {\"color\": \"#2a3f5f\"}}, \"ternary\": {\"aaxis\": {\"gridcolor\": \"white\", \"linecolor\": \"white\", \"ticks\": \"\"}, \"baxis\": {\"gridcolor\": \"white\", \"linecolor\": \"white\", \"ticks\": \"\"}, \"bgcolor\": \"#E5ECF6\", \"caxis\": {\"gridcolor\": \"white\", \"linecolor\": \"white\", \"ticks\": \"\"}}, \"title\": {\"x\": 0.05}, \"xaxis\": {\"automargin\": true, \"gridcolor\": \"white\", \"linecolor\": \"white\", \"ticks\": \"\", \"title\": {\"standoff\": 15}, \"zerolinecolor\": \"white\", \"zerolinewidth\": 2}, \"yaxis\": {\"automargin\": true, \"gridcolor\": \"white\", \"linecolor\": \"white\", \"ticks\": \"\", \"title\": {\"standoff\": 15}, \"zerolinecolor\": \"white\", \"zerolinewidth\": 2}}}, \"title\": {\"font\": {\"color\": \"#4D5663\"}, \"text\": \"Engine Size Mean\"}, \"xaxis\": {\"gridcolor\": \"#E1E5ED\", \"showgrid\": true, \"tickfont\": {\"color\": \"#4D5663\"}, \"title\": {\"font\": {\"color\": \"#4D5663\"}, \"text\": \"\"}, \"zerolinecolor\": \"#E1E5ED\"}, \"yaxis\": {\"gridcolor\": \"#E1E5ED\", \"showgrid\": true, \"tickfont\": {\"color\": \"#4D5663\"}, \"title\": {\"font\": {\"color\": \"#4D5663\"}, \"text\": \"\"}, \"zerolinecolor\": \"#E1E5ED\"}},                        {\"showLink\": true, \"linkText\": \"Export to plot.ly\", \"plotlyServerURL\": \"https://plot.ly\", \"responsive\": true}                    ).then(function(){\n",
       "                            \n",
       "var gd = document.getElementById('c6acffd2-d6a1-4bdc-b6a7-95ab91d8170c');\n",
       "var x = new MutationObserver(function (mutations, observer) {{\n",
       "        var display = window.getComputedStyle(gd).display;\n",
       "        if (!display || display === 'none') {{\n",
       "            console.log([gd, 'removed!']);\n",
       "            Plotly.purge(gd);\n",
       "            observer.disconnect();\n",
       "        }}\n",
       "}});\n",
       "\n",
       "// Listen for the removal of the full notebook cells\n",
       "var notebookContainer = gd.closest('#notebook-container');\n",
       "if (notebookContainer) {{\n",
       "    x.observe(notebookContainer, {childList: true});\n",
       "}}\n",
       "\n",
       "// Listen for the clearing of the current output cell\n",
       "var outputEl = gd.closest('.output');\n",
       "if (outputEl) {{\n",
       "    x.observe(outputEl, {childList: true});\n",
       "}}\n",
       "\n",
       "                        })                };                });            </script>        </div>"
      ]
     },
     "metadata": {},
     "output_type": "display_data"
    }
   ],
   "source": [
    "co2_df['ENGINESIZE'].iplot(kind='box', title='Engine Size Mean')"
   ]
  },
  {
   "cell_type": "code",
   "execution_count": 38,
   "metadata": {},
   "outputs": [
    {
     "data": {
      "application/vnd.plotly.v1+json": {
       "config": {
        "linkText": "Export to plot.ly",
        "plotlyServerURL": "https://plot.ly",
        "showLink": true
       },
       "data": [
        {
         "histfunc": "count",
         "histnorm": "",
         "marker": {
          "color": "rgba(255, 153, 51, 1.0)",
          "line": {
           "color": "#4D5663",
           "width": 1.3
          }
         },
         "name": "CO2EMISSIONS",
         "nbinsx": 30,
         "opacity": 0.8,
         "orientation": "v",
         "type": "histogram",
         "x": [
          196,
          221,
          136,
          255,
          244,
          230,
          232,
          255,
          267,
          212,
          225,
          239,
          359,
          359,
          338,
          354,
          338,
          354,
          359,
          202,
          230,
          214,
          230,
          230,
          214,
          235,
          251,
          224,
          258,
          224,
          258,
          260,
          227,
          258,
          288,
          361,
          230,
          242,
          239,
          258,
          212,
          246,
          304,
          294,
          336,
          407,
          354,
          409,
          336,
          407,
          354,
          409,
          306,
          308,
          290,
          262,
          285,
          262,
          285,
          267,
          281,
          281,
          297,
          292,
          209,
          209,
          237,
          237,
          297,
          356,
          320,
          380,
          322,
          380,
          380,
          437,
          193,
          200,
          202,
          181,
          181,
          193,
          200,
          209,
          209,
          209,
          221,
          230,
          228,
          237,
          232,
          193,
          200,
          209,
          221,
          230,
          228,
          237,
          202,
          209,
          213,
          232,
          246,
          281,
          292,
          232,
          292,
          281,
          292,
          246,
          292,
          292,
          356,
          191,
          214,
          212,
          292,
          292,
          338,
          317,
          338,
          317,
          338,
          317,
          338,
          317,
          209,
          260,
          230,
          253,
          255,
          320,
          370,
          274,
          324,
          209,
          200,
          278,
          253,
          278,
          283,
          290,
          196,
          212,
          264,
          250,
          264,
          264,
          189,
          228,
          225,
          246,
          189,
          228,
          225,
          218,
          221,
          235,
          207,
          251,
          232,
          260,
          258,
          262,
          232,
          248,
          248,
          260,
          294,
          253,
          260,
          255,
          262,
          382,
          340,
          382,
          340,
          382,
          340,
          338,
          322,
          377,
          354,
          283,
          294,
          262,
          271,
          290,
          258,
          269,
          242,
          294,
          292,
          382,
          340,
          276,
          258,
          179,
          179,
          202,
          189,
          192,
          177,
          163,
          209,
          276,
          259,
          230,
          290,
          272,
          347,
          366,
          334,
          380,
          344,
          380,
          344,
          380,
          362,
          380,
          344,
          380,
          362,
          414,
          432,
          411,
          419,
          435,
          413,
          221,
          244,
          229,
          200,
          228,
          184,
          244,
          235,
          271,
          269,
          292,
          270,
          324,
          290,
          285,
          299,
          277,
          329,
          184,
          173,
          191,
          182,
          184,
          172,
          191,
          182,
          191,
          182,
          191,
          182,
          159,
          159,
          317,
          294,
          317,
          294,
          317,
          294,
          317,
          294,
          283,
          290,
          193,
          186,
          207,
          237,
          232,
          246,
          242,
          230,
          225,
          230,
          242,
          230,
          294,
          251,
          308,
          251,
          237,
          237,
          222,
          317,
          276,
          269,
          225,
          230,
          242,
          230,
          258,
          301,
          294,
          320,
          317,
          258,
          237,
          294,
          251,
          308,
          251,
          237,
          258,
          251,
          235,
          222,
          317,
          186,
          198,
          202,
          198,
          195,
          212,
          202,
          168,
          168,
          331,
          278,
          250,
          271,
          264,
          255,
          285,
          276,
          259,
          179,
          179,
          182,
          166,
          179,
          182,
          156,
          179,
          200,
          193,
          138,
          373,
          350,
          396,
          360,
          386,
          368,
          488,
          421,
          382,
          225,
          248,
          264,
          281,
          209,
          221,
          216,
          214,
          230,
          368,
          346,
          235,
          299,
          274,
          254,
          288,
          267,
          292,
          294,
          366,
          317,
          308,
          402,
          283,
          264,
          283,
          264,
          336,
          315,
          336,
          315,
          308,
          288,
          308,
          288,
          343,
          320,
          340,
          318,
          414,
          175,
          175,
          152,
          161,
          184,
          264,
          278,
          294,
          205,
          177,
          165,
          179,
          165,
          184,
          170,
          166,
          162,
          196,
          186,
          207,
          205,
          186,
          216,
          126,
          235,
          244,
          264,
          292,
          304,
          244,
          209,
          271,
          237,
          229,
          258,
          251,
          218,
          228,
          232,
          239,
          283,
          297,
          347,
          366,
          334,
          380,
          344,
          380,
          344,
          380,
          362,
          380,
          344,
          380,
          362,
          414,
          432,
          411,
          419,
          435,
          413,
          271,
          269,
          292,
          270,
          324,
          290,
          285,
          299,
          277,
          329,
          209,
          276,
          259,
          230,
          290,
          272,
          317,
          294,
          317,
          294,
          338,
          322,
          377,
          354,
          317,
          294,
          317,
          294,
          182,
          186,
          200,
          209,
          221,
          251,
          110,
          161,
          166,
          175,
          246,
          209,
          216,
          145,
          159,
          172,
          177,
          244,
          265,
          276,
          308,
          177,
          177,
          198,
          196,
          304,
          255,
          258,
          267,
          237,
          264,
          255,
          221,
          196,
          143,
          145,
          214,
          232,
          230,
          242,
          244,
          177,
          184,
          202,
          196,
          235,
          248,
          172,
          189,
          265,
          269,
          283,
          255,
          267,
          253,
          283,
          267,
          294,
          175,
          271,
          244,
          253,
          196,
          294,
          334,
          345,
          237,
          244,
          294,
          242,
          281,
          306,
          290,
          306,
          285,
          306,
          280,
          285,
          306,
          280,
          306,
          306,
          301,
          290,
          315,
          310,
          315,
          310,
          218,
          242,
          230,
          248,
          232,
          253,
          251,
          267,
          225,
          209,
          225,
          216,
          235,
          216,
          255,
          340,
          267,
          278,
          250,
          363,
          225,
          209,
          225,
          216,
          235,
          216,
          255,
          294,
          294,
          308,
          308,
          251,
          191,
          184,
          193,
          193,
          223,
          225,
          193,
          196,
          216,
          221,
          193,
          198,
          228,
          200,
          175,
          177,
          175,
          212,
          214,
          276,
          237,
          262,
          253,
          271,
          205,
          207,
          209,
          202,
          230,
          260,
          262,
          246,
          421,
          361,
          400,
          274,
          334,
          225,
          225,
          354,
          347,
          342,
          285,
          285,
          278,
          345,
          338,
          331,
          283,
          283,
          277,
          354,
          347,
          342,
          129,
          138,
          221,
          239,
          253,
          175,
          320,
          223,
          239,
          223,
          244,
          253,
          244,
          290,
          283,
          297,
          297,
          262,
          380,
          269,
          255,
          189,
          271,
          260,
          294,
          235,
          281,
          281,
          207,
          262,
          145,
          368,
          346,
          292,
          292,
          347,
          352,
          334,
          301,
          189,
          184,
          198,
          196,
          205,
          283,
          290,
          177,
          170,
          159,
          161,
          170,
          168,
          161,
          163,
          166,
          177,
          168,
          166,
          223,
          225,
          175,
          186,
          168,
          235,
          221,
          228,
          184,
          216,
          216,
          242,
          224,
          242,
          239,
          244,
          242,
          347,
          352,
          304,
          308,
          179,
          212,
          264,
          301,
          301,
          194,
          235,
          230,
          239,
          242,
          239,
          235,
          202,
          267,
          269,
          262,
          297,
          310,
          297,
          310,
          419,
          407,
          324,
          350,
          359,
          363,
          230,
          260,
          278,
          256,
          278,
          327,
          356,
          278,
          276,
          304,
          269,
          292,
          327,
          205,
          207,
          225,
          246,
          380,
          361,
          361,
          179,
          179,
          179,
          179,
          200,
          179,
          175,
          168,
          200,
          179,
          179,
          179,
          191,
          184,
          191,
          184,
          207,
          196,
          191,
          184,
          207,
          196,
          191,
          184,
          191,
          184,
          191,
          184,
          207,
          196,
          191,
          184,
          207,
          196,
          191,
          184,
          189,
          191,
          218,
          288,
          283,
          267,
          198,
          198,
          138,
          147,
          198,
          209,
          235,
          200,
          202,
          207,
          253,
          264,
          262,
          269,
          175,
          214,
          380,
          283,
          260,
          292,
          315,
          301,
          297,
          186,
          198,
          200,
          251,
          271,
          214,
          244,
          253,
          202,
          255,
          191,
          198,
          161,
          179,
          359,
          398,
          152,
          177,
          327,
          315,
          232,
          246,
          237,
          246,
          242,
          253,
          248,
          253,
          253,
          258,
          232,
          246,
          244,
          248,
          246,
          251,
          322,
          274,
          274,
          274,
          274,
          212,
          228,
          225,
          239,
          276,
          313,
          281,
          320,
          299,
          251,
          315,
          212,
          228,
          225,
          239,
          251,
          255,
          260,
          264,
          292,
          260,
          294,
          297,
          340,
          313,
          354,
          324,
          286,
          290,
          285,
          275,
          274,
          269,
          260,
          262,
          254,
          368,
          368,
          393,
          393,
          393,
          393,
          359,
          193,
          218,
          143,
          207,
          207,
          228,
          228,
          184,
          182,
          147,
          147,
          389,
          389,
          196,
          221,
          218,
          198,
          223,
          179,
          196,
          258,
          288,
          179,
          196,
          258,
          288,
          198,
          228,
          267,
          207,
          225,
          269,
          301,
          196,
          212,
          177,
          297,
          297,
          221,
          189,
          221,
          131,
          138,
          177,
          168,
          163,
          170,
          156,
          159,
          196,
          189,
          297,
          320,
          237,
          258,
          264,
          191,
          189,
          110,
          108,
          126,
          205,
          216,
          218,
          384,
          260,
          285,
          251,
          235,
          301,
          274,
          271,
          306,
          322,
          310,
          329,
          356,
          347,
          373,
          230,
          253,
          235,
          260,
          168,
          163,
          196,
          200,
          209,
          216,
          225,
          221,
          200,
          214,
          216,
          232,
          197,
          197,
          223,
          225,
          283,
          221,
          218,
          216,
          194,
          186,
          189,
          189,
          216,
          207,
          207,
          212,
          186,
          186,
          124,
          198,
          198,
          223,
          225,
          248,
          192,
          184,
          278,
          246,
          267,
          246,
          281,
          281,
          223,
          232,
          264,
          235,
          264,
          258,
          271,
          264,
          271,
          260,
          294
         ]
        }
       ],
       "layout": {
        "barmode": "overlay",
        "legend": {
         "bgcolor": "#F5F6F9",
         "font": {
          "color": "#4D5663"
         }
        },
        "paper_bgcolor": "#F5F6F9",
        "plot_bgcolor": "#F5F6F9",
        "template": {
         "data": {
          "bar": [
           {
            "error_x": {
             "color": "#2a3f5f"
            },
            "error_y": {
             "color": "#2a3f5f"
            },
            "marker": {
             "line": {
              "color": "#E5ECF6",
              "width": 0.5
             }
            },
            "type": "bar"
           }
          ],
          "barpolar": [
           {
            "marker": {
             "line": {
              "color": "#E5ECF6",
              "width": 0.5
             }
            },
            "type": "barpolar"
           }
          ],
          "carpet": [
           {
            "aaxis": {
             "endlinecolor": "#2a3f5f",
             "gridcolor": "white",
             "linecolor": "white",
             "minorgridcolor": "white",
             "startlinecolor": "#2a3f5f"
            },
            "baxis": {
             "endlinecolor": "#2a3f5f",
             "gridcolor": "white",
             "linecolor": "white",
             "minorgridcolor": "white",
             "startlinecolor": "#2a3f5f"
            },
            "type": "carpet"
           }
          ],
          "choropleth": [
           {
            "colorbar": {
             "outlinewidth": 0,
             "ticks": ""
            },
            "type": "choropleth"
           }
          ],
          "contour": [
           {
            "colorbar": {
             "outlinewidth": 0,
             "ticks": ""
            },
            "colorscale": [
             [
              0,
              "#0d0887"
             ],
             [
              0.1111111111111111,
              "#46039f"
             ],
             [
              0.2222222222222222,
              "#7201a8"
             ],
             [
              0.3333333333333333,
              "#9c179e"
             ],
             [
              0.4444444444444444,
              "#bd3786"
             ],
             [
              0.5555555555555556,
              "#d8576b"
             ],
             [
              0.6666666666666666,
              "#ed7953"
             ],
             [
              0.7777777777777778,
              "#fb9f3a"
             ],
             [
              0.8888888888888888,
              "#fdca26"
             ],
             [
              1,
              "#f0f921"
             ]
            ],
            "type": "contour"
           }
          ],
          "contourcarpet": [
           {
            "colorbar": {
             "outlinewidth": 0,
             "ticks": ""
            },
            "type": "contourcarpet"
           }
          ],
          "heatmap": [
           {
            "colorbar": {
             "outlinewidth": 0,
             "ticks": ""
            },
            "colorscale": [
             [
              0,
              "#0d0887"
             ],
             [
              0.1111111111111111,
              "#46039f"
             ],
             [
              0.2222222222222222,
              "#7201a8"
             ],
             [
              0.3333333333333333,
              "#9c179e"
             ],
             [
              0.4444444444444444,
              "#bd3786"
             ],
             [
              0.5555555555555556,
              "#d8576b"
             ],
             [
              0.6666666666666666,
              "#ed7953"
             ],
             [
              0.7777777777777778,
              "#fb9f3a"
             ],
             [
              0.8888888888888888,
              "#fdca26"
             ],
             [
              1,
              "#f0f921"
             ]
            ],
            "type": "heatmap"
           }
          ],
          "heatmapgl": [
           {
            "colorbar": {
             "outlinewidth": 0,
             "ticks": ""
            },
            "colorscale": [
             [
              0,
              "#0d0887"
             ],
             [
              0.1111111111111111,
              "#46039f"
             ],
             [
              0.2222222222222222,
              "#7201a8"
             ],
             [
              0.3333333333333333,
              "#9c179e"
             ],
             [
              0.4444444444444444,
              "#bd3786"
             ],
             [
              0.5555555555555556,
              "#d8576b"
             ],
             [
              0.6666666666666666,
              "#ed7953"
             ],
             [
              0.7777777777777778,
              "#fb9f3a"
             ],
             [
              0.8888888888888888,
              "#fdca26"
             ],
             [
              1,
              "#f0f921"
             ]
            ],
            "type": "heatmapgl"
           }
          ],
          "histogram": [
           {
            "marker": {
             "colorbar": {
              "outlinewidth": 0,
              "ticks": ""
             }
            },
            "type": "histogram"
           }
          ],
          "histogram2d": [
           {
            "colorbar": {
             "outlinewidth": 0,
             "ticks": ""
            },
            "colorscale": [
             [
              0,
              "#0d0887"
             ],
             [
              0.1111111111111111,
              "#46039f"
             ],
             [
              0.2222222222222222,
              "#7201a8"
             ],
             [
              0.3333333333333333,
              "#9c179e"
             ],
             [
              0.4444444444444444,
              "#bd3786"
             ],
             [
              0.5555555555555556,
              "#d8576b"
             ],
             [
              0.6666666666666666,
              "#ed7953"
             ],
             [
              0.7777777777777778,
              "#fb9f3a"
             ],
             [
              0.8888888888888888,
              "#fdca26"
             ],
             [
              1,
              "#f0f921"
             ]
            ],
            "type": "histogram2d"
           }
          ],
          "histogram2dcontour": [
           {
            "colorbar": {
             "outlinewidth": 0,
             "ticks": ""
            },
            "colorscale": [
             [
              0,
              "#0d0887"
             ],
             [
              0.1111111111111111,
              "#46039f"
             ],
             [
              0.2222222222222222,
              "#7201a8"
             ],
             [
              0.3333333333333333,
              "#9c179e"
             ],
             [
              0.4444444444444444,
              "#bd3786"
             ],
             [
              0.5555555555555556,
              "#d8576b"
             ],
             [
              0.6666666666666666,
              "#ed7953"
             ],
             [
              0.7777777777777778,
              "#fb9f3a"
             ],
             [
              0.8888888888888888,
              "#fdca26"
             ],
             [
              1,
              "#f0f921"
             ]
            ],
            "type": "histogram2dcontour"
           }
          ],
          "mesh3d": [
           {
            "colorbar": {
             "outlinewidth": 0,
             "ticks": ""
            },
            "type": "mesh3d"
           }
          ],
          "parcoords": [
           {
            "line": {
             "colorbar": {
              "outlinewidth": 0,
              "ticks": ""
             }
            },
            "type": "parcoords"
           }
          ],
          "pie": [
           {
            "automargin": true,
            "type": "pie"
           }
          ],
          "scatter": [
           {
            "marker": {
             "colorbar": {
              "outlinewidth": 0,
              "ticks": ""
             }
            },
            "type": "scatter"
           }
          ],
          "scatter3d": [
           {
            "line": {
             "colorbar": {
              "outlinewidth": 0,
              "ticks": ""
             }
            },
            "marker": {
             "colorbar": {
              "outlinewidth": 0,
              "ticks": ""
             }
            },
            "type": "scatter3d"
           }
          ],
          "scattercarpet": [
           {
            "marker": {
             "colorbar": {
              "outlinewidth": 0,
              "ticks": ""
             }
            },
            "type": "scattercarpet"
           }
          ],
          "scattergeo": [
           {
            "marker": {
             "colorbar": {
              "outlinewidth": 0,
              "ticks": ""
             }
            },
            "type": "scattergeo"
           }
          ],
          "scattergl": [
           {
            "marker": {
             "colorbar": {
              "outlinewidth": 0,
              "ticks": ""
             }
            },
            "type": "scattergl"
           }
          ],
          "scattermapbox": [
           {
            "marker": {
             "colorbar": {
              "outlinewidth": 0,
              "ticks": ""
             }
            },
            "type": "scattermapbox"
           }
          ],
          "scatterpolar": [
           {
            "marker": {
             "colorbar": {
              "outlinewidth": 0,
              "ticks": ""
             }
            },
            "type": "scatterpolar"
           }
          ],
          "scatterpolargl": [
           {
            "marker": {
             "colorbar": {
              "outlinewidth": 0,
              "ticks": ""
             }
            },
            "type": "scatterpolargl"
           }
          ],
          "scatterternary": [
           {
            "marker": {
             "colorbar": {
              "outlinewidth": 0,
              "ticks": ""
             }
            },
            "type": "scatterternary"
           }
          ],
          "surface": [
           {
            "colorbar": {
             "outlinewidth": 0,
             "ticks": ""
            },
            "colorscale": [
             [
              0,
              "#0d0887"
             ],
             [
              0.1111111111111111,
              "#46039f"
             ],
             [
              0.2222222222222222,
              "#7201a8"
             ],
             [
              0.3333333333333333,
              "#9c179e"
             ],
             [
              0.4444444444444444,
              "#bd3786"
             ],
             [
              0.5555555555555556,
              "#d8576b"
             ],
             [
              0.6666666666666666,
              "#ed7953"
             ],
             [
              0.7777777777777778,
              "#fb9f3a"
             ],
             [
              0.8888888888888888,
              "#fdca26"
             ],
             [
              1,
              "#f0f921"
             ]
            ],
            "type": "surface"
           }
          ],
          "table": [
           {
            "cells": {
             "fill": {
              "color": "#EBF0F8"
             },
             "line": {
              "color": "white"
             }
            },
            "header": {
             "fill": {
              "color": "#C8D4E3"
             },
             "line": {
              "color": "white"
             }
            },
            "type": "table"
           }
          ]
         },
         "layout": {
          "annotationdefaults": {
           "arrowcolor": "#2a3f5f",
           "arrowhead": 0,
           "arrowwidth": 1
          },
          "autotypenumbers": "strict",
          "coloraxis": {
           "colorbar": {
            "outlinewidth": 0,
            "ticks": ""
           }
          },
          "colorscale": {
           "diverging": [
            [
             0,
             "#8e0152"
            ],
            [
             0.1,
             "#c51b7d"
            ],
            [
             0.2,
             "#de77ae"
            ],
            [
             0.3,
             "#f1b6da"
            ],
            [
             0.4,
             "#fde0ef"
            ],
            [
             0.5,
             "#f7f7f7"
            ],
            [
             0.6,
             "#e6f5d0"
            ],
            [
             0.7,
             "#b8e186"
            ],
            [
             0.8,
             "#7fbc41"
            ],
            [
             0.9,
             "#4d9221"
            ],
            [
             1,
             "#276419"
            ]
           ],
           "sequential": [
            [
             0,
             "#0d0887"
            ],
            [
             0.1111111111111111,
             "#46039f"
            ],
            [
             0.2222222222222222,
             "#7201a8"
            ],
            [
             0.3333333333333333,
             "#9c179e"
            ],
            [
             0.4444444444444444,
             "#bd3786"
            ],
            [
             0.5555555555555556,
             "#d8576b"
            ],
            [
             0.6666666666666666,
             "#ed7953"
            ],
            [
             0.7777777777777778,
             "#fb9f3a"
            ],
            [
             0.8888888888888888,
             "#fdca26"
            ],
            [
             1,
             "#f0f921"
            ]
           ],
           "sequentialminus": [
            [
             0,
             "#0d0887"
            ],
            [
             0.1111111111111111,
             "#46039f"
            ],
            [
             0.2222222222222222,
             "#7201a8"
            ],
            [
             0.3333333333333333,
             "#9c179e"
            ],
            [
             0.4444444444444444,
             "#bd3786"
            ],
            [
             0.5555555555555556,
             "#d8576b"
            ],
            [
             0.6666666666666666,
             "#ed7953"
            ],
            [
             0.7777777777777778,
             "#fb9f3a"
            ],
            [
             0.8888888888888888,
             "#fdca26"
            ],
            [
             1,
             "#f0f921"
            ]
           ]
          },
          "colorway": [
           "#636efa",
           "#EF553B",
           "#00cc96",
           "#ab63fa",
           "#FFA15A",
           "#19d3f3",
           "#FF6692",
           "#B6E880",
           "#FF97FF",
           "#FECB52"
          ],
          "font": {
           "color": "#2a3f5f"
          },
          "geo": {
           "bgcolor": "white",
           "lakecolor": "white",
           "landcolor": "#E5ECF6",
           "showlakes": true,
           "showland": true,
           "subunitcolor": "white"
          },
          "hoverlabel": {
           "align": "left"
          },
          "hovermode": "closest",
          "mapbox": {
           "style": "light"
          },
          "paper_bgcolor": "white",
          "plot_bgcolor": "#E5ECF6",
          "polar": {
           "angularaxis": {
            "gridcolor": "white",
            "linecolor": "white",
            "ticks": ""
           },
           "bgcolor": "#E5ECF6",
           "radialaxis": {
            "gridcolor": "white",
            "linecolor": "white",
            "ticks": ""
           }
          },
          "scene": {
           "xaxis": {
            "backgroundcolor": "#E5ECF6",
            "gridcolor": "white",
            "gridwidth": 2,
            "linecolor": "white",
            "showbackground": true,
            "ticks": "",
            "zerolinecolor": "white"
           },
           "yaxis": {
            "backgroundcolor": "#E5ECF6",
            "gridcolor": "white",
            "gridwidth": 2,
            "linecolor": "white",
            "showbackground": true,
            "ticks": "",
            "zerolinecolor": "white"
           },
           "zaxis": {
            "backgroundcolor": "#E5ECF6",
            "gridcolor": "white",
            "gridwidth": 2,
            "linecolor": "white",
            "showbackground": true,
            "ticks": "",
            "zerolinecolor": "white"
           }
          },
          "shapedefaults": {
           "line": {
            "color": "#2a3f5f"
           }
          },
          "ternary": {
           "aaxis": {
            "gridcolor": "white",
            "linecolor": "white",
            "ticks": ""
           },
           "baxis": {
            "gridcolor": "white",
            "linecolor": "white",
            "ticks": ""
           },
           "bgcolor": "#E5ECF6",
           "caxis": {
            "gridcolor": "white",
            "linecolor": "white",
            "ticks": ""
           }
          },
          "title": {
           "x": 0.05
          },
          "xaxis": {
           "automargin": true,
           "gridcolor": "white",
           "linecolor": "white",
           "ticks": "",
           "title": {
            "standoff": 15
           },
           "zerolinecolor": "white",
           "zerolinewidth": 2
          },
          "yaxis": {
           "automargin": true,
           "gridcolor": "white",
           "linecolor": "white",
           "ticks": "",
           "title": {
            "standoff": 15
           },
           "zerolinecolor": "white",
           "zerolinewidth": 2
          }
         }
        },
        "title": {
         "font": {
          "color": "#4D5663"
         },
         "text": "CO2 Canada Vehicles Emissions Parts-Per-Millions January/2019"
        },
        "xaxis": {
         "gridcolor": "#E1E5ED",
         "showgrid": true,
         "tickfont": {
          "color": "#4D5663"
         },
         "title": {
          "font": {
           "color": "#4D5663"
          },
          "text": "CO2 PPM"
         },
         "zerolinecolor": "#E1E5ED"
        },
        "yaxis": {
         "gridcolor": "#E1E5ED",
         "showgrid": true,
         "tickfont": {
          "color": "#4D5663"
         },
         "title": {
          "font": {
           "color": "#4D5663"
          },
          "text": "No."
         },
         "zerolinecolor": "#E1E5ED"
        }
       }
      },
      "text/html": [
       "<div>                            <div id=\"d8a6eea5-6ed8-4b21-b85d-7c312163c378\" class=\"plotly-graph-div\" style=\"height:525px; width:100%;\"></div>            <script type=\"text/javascript\">                require([\"plotly\"], function(Plotly) {                    window.PLOTLYENV=window.PLOTLYENV || {};\n",
       "                    window.PLOTLYENV.BASE_URL='https://plot.ly';                                    if (document.getElementById(\"d8a6eea5-6ed8-4b21-b85d-7c312163c378\")) {                    Plotly.newPlot(                        \"d8a6eea5-6ed8-4b21-b85d-7c312163c378\",                        [{\"histfunc\": \"count\", \"histnorm\": \"\", \"marker\": {\"color\": \"rgba(255, 153, 51, 1.0)\", \"line\": {\"color\": \"#4D5663\", \"width\": 1.3}}, \"name\": \"CO2EMISSIONS\", \"nbinsx\": 30, \"opacity\": 0.8, \"orientation\": \"v\", \"type\": \"histogram\", \"x\": [196, 221, 136, 255, 244, 230, 232, 255, 267, 212, 225, 239, 359, 359, 338, 354, 338, 354, 359, 202, 230, 214, 230, 230, 214, 235, 251, 224, 258, 224, 258, 260, 227, 258, 288, 361, 230, 242, 239, 258, 212, 246, 304, 294, 336, 407, 354, 409, 336, 407, 354, 409, 306, 308, 290, 262, 285, 262, 285, 267, 281, 281, 297, 292, 209, 209, 237, 237, 297, 356, 320, 380, 322, 380, 380, 437, 193, 200, 202, 181, 181, 193, 200, 209, 209, 209, 221, 230, 228, 237, 232, 193, 200, 209, 221, 230, 228, 237, 202, 209, 213, 232, 246, 281, 292, 232, 292, 281, 292, 246, 292, 292, 356, 191, 214, 212, 292, 292, 338, 317, 338, 317, 338, 317, 338, 317, 209, 260, 230, 253, 255, 320, 370, 274, 324, 209, 200, 278, 253, 278, 283, 290, 196, 212, 264, 250, 264, 264, 189, 228, 225, 246, 189, 228, 225, 218, 221, 235, 207, 251, 232, 260, 258, 262, 232, 248, 248, 260, 294, 253, 260, 255, 262, 382, 340, 382, 340, 382, 340, 338, 322, 377, 354, 283, 294, 262, 271, 290, 258, 269, 242, 294, 292, 382, 340, 276, 258, 179, 179, 202, 189, 192, 177, 163, 209, 276, 259, 230, 290, 272, 347, 366, 334, 380, 344, 380, 344, 380, 362, 380, 344, 380, 362, 414, 432, 411, 419, 435, 413, 221, 244, 229, 200, 228, 184, 244, 235, 271, 269, 292, 270, 324, 290, 285, 299, 277, 329, 184, 173, 191, 182, 184, 172, 191, 182, 191, 182, 191, 182, 159, 159, 317, 294, 317, 294, 317, 294, 317, 294, 283, 290, 193, 186, 207, 237, 232, 246, 242, 230, 225, 230, 242, 230, 294, 251, 308, 251, 237, 237, 222, 317, 276, 269, 225, 230, 242, 230, 258, 301, 294, 320, 317, 258, 237, 294, 251, 308, 251, 237, 258, 251, 235, 222, 317, 186, 198, 202, 198, 195, 212, 202, 168, 168, 331, 278, 250, 271, 264, 255, 285, 276, 259, 179, 179, 182, 166, 179, 182, 156, 179, 200, 193, 138, 373, 350, 396, 360, 386, 368, 488, 421, 382, 225, 248, 264, 281, 209, 221, 216, 214, 230, 368, 346, 235, 299, 274, 254, 288, 267, 292, 294, 366, 317, 308, 402, 283, 264, 283, 264, 336, 315, 336, 315, 308, 288, 308, 288, 343, 320, 340, 318, 414, 175, 175, 152, 161, 184, 264, 278, 294, 205, 177, 165, 179, 165, 184, 170, 166, 162, 196, 186, 207, 205, 186, 216, 126, 235, 244, 264, 292, 304, 244, 209, 271, 237, 229, 258, 251, 218, 228, 232, 239, 283, 297, 347, 366, 334, 380, 344, 380, 344, 380, 362, 380, 344, 380, 362, 414, 432, 411, 419, 435, 413, 271, 269, 292, 270, 324, 290, 285, 299, 277, 329, 209, 276, 259, 230, 290, 272, 317, 294, 317, 294, 338, 322, 377, 354, 317, 294, 317, 294, 182, 186, 200, 209, 221, 251, 110, 161, 166, 175, 246, 209, 216, 145, 159, 172, 177, 244, 265, 276, 308, 177, 177, 198, 196, 304, 255, 258, 267, 237, 264, 255, 221, 196, 143, 145, 214, 232, 230, 242, 244, 177, 184, 202, 196, 235, 248, 172, 189, 265, 269, 283, 255, 267, 253, 283, 267, 294, 175, 271, 244, 253, 196, 294, 334, 345, 237, 244, 294, 242, 281, 306, 290, 306, 285, 306, 280, 285, 306, 280, 306, 306, 301, 290, 315, 310, 315, 310, 218, 242, 230, 248, 232, 253, 251, 267, 225, 209, 225, 216, 235, 216, 255, 340, 267, 278, 250, 363, 225, 209, 225, 216, 235, 216, 255, 294, 294, 308, 308, 251, 191, 184, 193, 193, 223, 225, 193, 196, 216, 221, 193, 198, 228, 200, 175, 177, 175, 212, 214, 276, 237, 262, 253, 271, 205, 207, 209, 202, 230, 260, 262, 246, 421, 361, 400, 274, 334, 225, 225, 354, 347, 342, 285, 285, 278, 345, 338, 331, 283, 283, 277, 354, 347, 342, 129, 138, 221, 239, 253, 175, 320, 223, 239, 223, 244, 253, 244, 290, 283, 297, 297, 262, 380, 269, 255, 189, 271, 260, 294, 235, 281, 281, 207, 262, 145, 368, 346, 292, 292, 347, 352, 334, 301, 189, 184, 198, 196, 205, 283, 290, 177, 170, 159, 161, 170, 168, 161, 163, 166, 177, 168, 166, 223, 225, 175, 186, 168, 235, 221, 228, 184, 216, 216, 242, 224, 242, 239, 244, 242, 347, 352, 304, 308, 179, 212, 264, 301, 301, 194, 235, 230, 239, 242, 239, 235, 202, 267, 269, 262, 297, 310, 297, 310, 419, 407, 324, 350, 359, 363, 230, 260, 278, 256, 278, 327, 356, 278, 276, 304, 269, 292, 327, 205, 207, 225, 246, 380, 361, 361, 179, 179, 179, 179, 200, 179, 175, 168, 200, 179, 179, 179, 191, 184, 191, 184, 207, 196, 191, 184, 207, 196, 191, 184, 191, 184, 191, 184, 207, 196, 191, 184, 207, 196, 191, 184, 189, 191, 218, 288, 283, 267, 198, 198, 138, 147, 198, 209, 235, 200, 202, 207, 253, 264, 262, 269, 175, 214, 380, 283, 260, 292, 315, 301, 297, 186, 198, 200, 251, 271, 214, 244, 253, 202, 255, 191, 198, 161, 179, 359, 398, 152, 177, 327, 315, 232, 246, 237, 246, 242, 253, 248, 253, 253, 258, 232, 246, 244, 248, 246, 251, 322, 274, 274, 274, 274, 212, 228, 225, 239, 276, 313, 281, 320, 299, 251, 315, 212, 228, 225, 239, 251, 255, 260, 264, 292, 260, 294, 297, 340, 313, 354, 324, 286, 290, 285, 275, 274, 269, 260, 262, 254, 368, 368, 393, 393, 393, 393, 359, 193, 218, 143, 207, 207, 228, 228, 184, 182, 147, 147, 389, 389, 196, 221, 218, 198, 223, 179, 196, 258, 288, 179, 196, 258, 288, 198, 228, 267, 207, 225, 269, 301, 196, 212, 177, 297, 297, 221, 189, 221, 131, 138, 177, 168, 163, 170, 156, 159, 196, 189, 297, 320, 237, 258, 264, 191, 189, 110, 108, 126, 205, 216, 218, 384, 260, 285, 251, 235, 301, 274, 271, 306, 322, 310, 329, 356, 347, 373, 230, 253, 235, 260, 168, 163, 196, 200, 209, 216, 225, 221, 200, 214, 216, 232, 197, 197, 223, 225, 283, 221, 218, 216, 194, 186, 189, 189, 216, 207, 207, 212, 186, 186, 124, 198, 198, 223, 225, 248, 192, 184, 278, 246, 267, 246, 281, 281, 223, 232, 264, 235, 264, 258, 271, 264, 271, 260, 294]}],                        {\"barmode\": \"overlay\", \"legend\": {\"bgcolor\": \"#F5F6F9\", \"font\": {\"color\": \"#4D5663\"}}, \"paper_bgcolor\": \"#F5F6F9\", \"plot_bgcolor\": \"#F5F6F9\", \"template\": {\"data\": {\"bar\": [{\"error_x\": {\"color\": \"#2a3f5f\"}, \"error_y\": {\"color\": \"#2a3f5f\"}, \"marker\": {\"line\": {\"color\": \"#E5ECF6\", \"width\": 0.5}}, \"type\": \"bar\"}], \"barpolar\": [{\"marker\": {\"line\": {\"color\": \"#E5ECF6\", \"width\": 0.5}}, \"type\": \"barpolar\"}], \"carpet\": [{\"aaxis\": {\"endlinecolor\": \"#2a3f5f\", \"gridcolor\": \"white\", \"linecolor\": \"white\", \"minorgridcolor\": \"white\", \"startlinecolor\": \"#2a3f5f\"}, \"baxis\": {\"endlinecolor\": \"#2a3f5f\", \"gridcolor\": \"white\", \"linecolor\": \"white\", \"minorgridcolor\": \"white\", \"startlinecolor\": \"#2a3f5f\"}, \"type\": \"carpet\"}], \"choropleth\": [{\"colorbar\": {\"outlinewidth\": 0, \"ticks\": \"\"}, \"type\": \"choropleth\"}], \"contour\": [{\"colorbar\": {\"outlinewidth\": 0, \"ticks\": \"\"}, \"colorscale\": [[0.0, \"#0d0887\"], [0.1111111111111111, \"#46039f\"], [0.2222222222222222, \"#7201a8\"], [0.3333333333333333, \"#9c179e\"], [0.4444444444444444, \"#bd3786\"], [0.5555555555555556, \"#d8576b\"], [0.6666666666666666, \"#ed7953\"], [0.7777777777777778, \"#fb9f3a\"], [0.8888888888888888, \"#fdca26\"], [1.0, \"#f0f921\"]], \"type\": \"contour\"}], \"contourcarpet\": [{\"colorbar\": {\"outlinewidth\": 0, \"ticks\": \"\"}, \"type\": \"contourcarpet\"}], \"heatmap\": [{\"colorbar\": {\"outlinewidth\": 0, \"ticks\": \"\"}, \"colorscale\": [[0.0, \"#0d0887\"], [0.1111111111111111, \"#46039f\"], [0.2222222222222222, \"#7201a8\"], [0.3333333333333333, \"#9c179e\"], [0.4444444444444444, \"#bd3786\"], [0.5555555555555556, \"#d8576b\"], [0.6666666666666666, \"#ed7953\"], [0.7777777777777778, \"#fb9f3a\"], [0.8888888888888888, \"#fdca26\"], [1.0, \"#f0f921\"]], \"type\": \"heatmap\"}], \"heatmapgl\": [{\"colorbar\": {\"outlinewidth\": 0, \"ticks\": \"\"}, \"colorscale\": [[0.0, \"#0d0887\"], [0.1111111111111111, \"#46039f\"], [0.2222222222222222, \"#7201a8\"], [0.3333333333333333, \"#9c179e\"], [0.4444444444444444, \"#bd3786\"], [0.5555555555555556, \"#d8576b\"], [0.6666666666666666, \"#ed7953\"], [0.7777777777777778, \"#fb9f3a\"], [0.8888888888888888, \"#fdca26\"], [1.0, \"#f0f921\"]], \"type\": \"heatmapgl\"}], \"histogram\": [{\"marker\": {\"colorbar\": {\"outlinewidth\": 0, \"ticks\": \"\"}}, \"type\": \"histogram\"}], \"histogram2d\": [{\"colorbar\": {\"outlinewidth\": 0, \"ticks\": \"\"}, \"colorscale\": [[0.0, \"#0d0887\"], [0.1111111111111111, \"#46039f\"], [0.2222222222222222, \"#7201a8\"], [0.3333333333333333, \"#9c179e\"], [0.4444444444444444, \"#bd3786\"], [0.5555555555555556, \"#d8576b\"], [0.6666666666666666, \"#ed7953\"], [0.7777777777777778, \"#fb9f3a\"], [0.8888888888888888, \"#fdca26\"], [1.0, \"#f0f921\"]], \"type\": \"histogram2d\"}], \"histogram2dcontour\": [{\"colorbar\": {\"outlinewidth\": 0, \"ticks\": \"\"}, \"colorscale\": [[0.0, \"#0d0887\"], [0.1111111111111111, \"#46039f\"], [0.2222222222222222, \"#7201a8\"], [0.3333333333333333, \"#9c179e\"], [0.4444444444444444, \"#bd3786\"], [0.5555555555555556, \"#d8576b\"], [0.6666666666666666, \"#ed7953\"], [0.7777777777777778, \"#fb9f3a\"], [0.8888888888888888, \"#fdca26\"], [1.0, \"#f0f921\"]], \"type\": \"histogram2dcontour\"}], \"mesh3d\": [{\"colorbar\": {\"outlinewidth\": 0, \"ticks\": \"\"}, \"type\": \"mesh3d\"}], \"parcoords\": [{\"line\": {\"colorbar\": {\"outlinewidth\": 0, \"ticks\": \"\"}}, \"type\": \"parcoords\"}], \"pie\": [{\"automargin\": true, \"type\": \"pie\"}], \"scatter\": [{\"marker\": {\"colorbar\": {\"outlinewidth\": 0, \"ticks\": \"\"}}, \"type\": \"scatter\"}], \"scatter3d\": [{\"line\": {\"colorbar\": {\"outlinewidth\": 0, \"ticks\": \"\"}}, \"marker\": {\"colorbar\": {\"outlinewidth\": 0, \"ticks\": \"\"}}, \"type\": \"scatter3d\"}], \"scattercarpet\": [{\"marker\": {\"colorbar\": {\"outlinewidth\": 0, \"ticks\": \"\"}}, \"type\": \"scattercarpet\"}], \"scattergeo\": [{\"marker\": {\"colorbar\": {\"outlinewidth\": 0, \"ticks\": \"\"}}, \"type\": \"scattergeo\"}], \"scattergl\": [{\"marker\": {\"colorbar\": {\"outlinewidth\": 0, \"ticks\": \"\"}}, \"type\": \"scattergl\"}], \"scattermapbox\": [{\"marker\": {\"colorbar\": {\"outlinewidth\": 0, \"ticks\": \"\"}}, \"type\": \"scattermapbox\"}], \"scatterpolar\": [{\"marker\": {\"colorbar\": {\"outlinewidth\": 0, \"ticks\": \"\"}}, \"type\": \"scatterpolar\"}], \"scatterpolargl\": [{\"marker\": {\"colorbar\": {\"outlinewidth\": 0, \"ticks\": \"\"}}, \"type\": \"scatterpolargl\"}], \"scatterternary\": [{\"marker\": {\"colorbar\": {\"outlinewidth\": 0, \"ticks\": \"\"}}, \"type\": \"scatterternary\"}], \"surface\": [{\"colorbar\": {\"outlinewidth\": 0, \"ticks\": \"\"}, \"colorscale\": [[0.0, \"#0d0887\"], [0.1111111111111111, \"#46039f\"], [0.2222222222222222, \"#7201a8\"], [0.3333333333333333, \"#9c179e\"], [0.4444444444444444, \"#bd3786\"], [0.5555555555555556, \"#d8576b\"], [0.6666666666666666, \"#ed7953\"], [0.7777777777777778, \"#fb9f3a\"], [0.8888888888888888, \"#fdca26\"], [1.0, \"#f0f921\"]], \"type\": \"surface\"}], \"table\": [{\"cells\": {\"fill\": {\"color\": \"#EBF0F8\"}, \"line\": {\"color\": \"white\"}}, \"header\": {\"fill\": {\"color\": \"#C8D4E3\"}, \"line\": {\"color\": \"white\"}}, \"type\": \"table\"}]}, \"layout\": {\"annotationdefaults\": {\"arrowcolor\": \"#2a3f5f\", \"arrowhead\": 0, \"arrowwidth\": 1}, \"autotypenumbers\": \"strict\", \"coloraxis\": {\"colorbar\": {\"outlinewidth\": 0, \"ticks\": \"\"}}, \"colorscale\": {\"diverging\": [[0, \"#8e0152\"], [0.1, \"#c51b7d\"], [0.2, \"#de77ae\"], [0.3, \"#f1b6da\"], [0.4, \"#fde0ef\"], [0.5, \"#f7f7f7\"], [0.6, \"#e6f5d0\"], [0.7, \"#b8e186\"], [0.8, \"#7fbc41\"], [0.9, \"#4d9221\"], [1, \"#276419\"]], \"sequential\": [[0.0, \"#0d0887\"], [0.1111111111111111, \"#46039f\"], [0.2222222222222222, \"#7201a8\"], [0.3333333333333333, \"#9c179e\"], [0.4444444444444444, \"#bd3786\"], [0.5555555555555556, \"#d8576b\"], [0.6666666666666666, \"#ed7953\"], [0.7777777777777778, \"#fb9f3a\"], [0.8888888888888888, \"#fdca26\"], [1.0, \"#f0f921\"]], \"sequentialminus\": [[0.0, \"#0d0887\"], [0.1111111111111111, \"#46039f\"], [0.2222222222222222, \"#7201a8\"], [0.3333333333333333, \"#9c179e\"], [0.4444444444444444, \"#bd3786\"], [0.5555555555555556, \"#d8576b\"], [0.6666666666666666, \"#ed7953\"], [0.7777777777777778, \"#fb9f3a\"], [0.8888888888888888, \"#fdca26\"], [1.0, \"#f0f921\"]]}, \"colorway\": [\"#636efa\", \"#EF553B\", \"#00cc96\", \"#ab63fa\", \"#FFA15A\", \"#19d3f3\", \"#FF6692\", \"#B6E880\", \"#FF97FF\", \"#FECB52\"], \"font\": {\"color\": \"#2a3f5f\"}, \"geo\": {\"bgcolor\": \"white\", \"lakecolor\": \"white\", \"landcolor\": \"#E5ECF6\", \"showlakes\": true, \"showland\": true, \"subunitcolor\": \"white\"}, \"hoverlabel\": {\"align\": \"left\"}, \"hovermode\": \"closest\", \"mapbox\": {\"style\": \"light\"}, \"paper_bgcolor\": \"white\", \"plot_bgcolor\": \"#E5ECF6\", \"polar\": {\"angularaxis\": {\"gridcolor\": \"white\", \"linecolor\": \"white\", \"ticks\": \"\"}, \"bgcolor\": \"#E5ECF6\", \"radialaxis\": {\"gridcolor\": \"white\", \"linecolor\": \"white\", \"ticks\": \"\"}}, \"scene\": {\"xaxis\": {\"backgroundcolor\": \"#E5ECF6\", \"gridcolor\": \"white\", \"gridwidth\": 2, \"linecolor\": \"white\", \"showbackground\": true, \"ticks\": \"\", \"zerolinecolor\": \"white\"}, \"yaxis\": {\"backgroundcolor\": \"#E5ECF6\", \"gridcolor\": \"white\", \"gridwidth\": 2, \"linecolor\": \"white\", \"showbackground\": true, \"ticks\": \"\", \"zerolinecolor\": \"white\"}, \"zaxis\": {\"backgroundcolor\": \"#E5ECF6\", \"gridcolor\": \"white\", \"gridwidth\": 2, \"linecolor\": \"white\", \"showbackground\": true, \"ticks\": \"\", \"zerolinecolor\": \"white\"}}, \"shapedefaults\": {\"line\": {\"color\": \"#2a3f5f\"}}, \"ternary\": {\"aaxis\": {\"gridcolor\": \"white\", \"linecolor\": \"white\", \"ticks\": \"\"}, \"baxis\": {\"gridcolor\": \"white\", \"linecolor\": \"white\", \"ticks\": \"\"}, \"bgcolor\": \"#E5ECF6\", \"caxis\": {\"gridcolor\": \"white\", \"linecolor\": \"white\", \"ticks\": \"\"}}, \"title\": {\"x\": 0.05}, \"xaxis\": {\"automargin\": true, \"gridcolor\": \"white\", \"linecolor\": \"white\", \"ticks\": \"\", \"title\": {\"standoff\": 15}, \"zerolinecolor\": \"white\", \"zerolinewidth\": 2}, \"yaxis\": {\"automargin\": true, \"gridcolor\": \"white\", \"linecolor\": \"white\", \"ticks\": \"\", \"title\": {\"standoff\": 15}, \"zerolinecolor\": \"white\", \"zerolinewidth\": 2}}}, \"title\": {\"font\": {\"color\": \"#4D5663\"}, \"text\": \"CO2 Canada Vehicles Emissions Parts-Per-Millions January/2019\"}, \"xaxis\": {\"gridcolor\": \"#E1E5ED\", \"showgrid\": true, \"tickfont\": {\"color\": \"#4D5663\"}, \"title\": {\"font\": {\"color\": \"#4D5663\"}, \"text\": \"CO2 PPM\"}, \"zerolinecolor\": \"#E1E5ED\"}, \"yaxis\": {\"gridcolor\": \"#E1E5ED\", \"showgrid\": true, \"tickfont\": {\"color\": \"#4D5663\"}, \"title\": {\"font\": {\"color\": \"#4D5663\"}, \"text\": \"No.\"}, \"zerolinecolor\": \"#E1E5ED\"}},                        {\"showLink\": true, \"linkText\": \"Export to plot.ly\", \"plotlyServerURL\": \"https://plot.ly\", \"responsive\": true}                    ).then(function(){\n",
       "                            \n",
       "var gd = document.getElementById('d8a6eea5-6ed8-4b21-b85d-7c312163c378');\n",
       "var x = new MutationObserver(function (mutations, observer) {{\n",
       "        var display = window.getComputedStyle(gd).display;\n",
       "        if (!display || display === 'none') {{\n",
       "            console.log([gd, 'removed!']);\n",
       "            Plotly.purge(gd);\n",
       "            observer.disconnect();\n",
       "        }}\n",
       "}});\n",
       "\n",
       "// Listen for the removal of the full notebook cells\n",
       "var notebookContainer = gd.closest('#notebook-container');\n",
       "if (notebookContainer) {{\n",
       "    x.observe(notebookContainer, {childList: true});\n",
       "}}\n",
       "\n",
       "// Listen for the clearing of the current output cell\n",
       "var outputEl = gd.closest('.output');\n",
       "if (outputEl) {{\n",
       "    x.observe(outputEl, {childList: true});\n",
       "}}\n",
       "\n",
       "                        })                };                });            </script>        </div>"
      ]
     },
     "metadata": {},
     "output_type": "display_data"
    }
   ],
   "source": [
    "co2_df['CO2EMISSIONS'].iplot(kind='hist', bins=30, xTitle='CO2 PPM', yTitle='No.', title='CO2 Canada Vehicles Emissions Parts-Per-Millions January/2019')"
   ]
  },
  {
   "cell_type": "markdown",
   "metadata": {},
   "source": [
    "## Getting into ML"
   ]
  },
  {
   "cell_type": "code",
   "execution_count": 39,
   "metadata": {},
   "outputs": [
    {
     "data": {
      "text/plain": [
       "Index(['ENGINESIZE', 'CYLINDERS', 'FUELCONSUMPTION_COMB', 'CO2EMISSIONS'], dtype='object')"
      ]
     },
     "execution_count": 39,
     "metadata": {},
     "output_type": "execute_result"
    }
   ],
   "source": [
    "co2_df.columns"
   ]
  },
  {
   "cell_type": "markdown",
   "metadata": {},
   "source": [
    "# Independent Value"
   ]
  },
  {
   "cell_type": "code",
   "execution_count": 40,
   "metadata": {},
   "outputs": [
    {
     "data": {
      "text/plain": [
       "array([[2. ],\n",
       "       [2.4],\n",
       "       [1.5],\n",
       "       ...,\n",
       "       [3. ],\n",
       "       [3.2],\n",
       "       [3.2]])"
      ]
     },
     "execution_count": 40,
     "metadata": {},
     "output_type": "execute_result"
    }
   ],
   "source": [
    "x = np.asanyarray(co2_df[['ENGINESIZE']])\n",
    "x"
   ]
  },
  {
   "cell_type": "markdown",
   "metadata": {},
   "source": [
    "# Target Value"
   ]
  },
  {
   "cell_type": "code",
   "execution_count": 41,
   "metadata": {},
   "outputs": [
    {
     "data": {
      "text/plain": [
       "array([[196],\n",
       "       [221],\n",
       "       [136],\n",
       "       ...,\n",
       "       [271],\n",
       "       [260],\n",
       "       [294]], dtype=int64)"
      ]
     },
     "execution_count": 41,
     "metadata": {},
     "output_type": "execute_result"
    }
   ],
   "source": [
    "y = np.asanyarray(co2_df[['CO2EMISSIONS']])\n",
    "y"
   ]
  },
  {
   "cell_type": "markdown",
   "metadata": {},
   "source": [
    "# Data Split & Linear Model"
   ]
  },
  {
   "cell_type": "code",
   "execution_count": 42,
   "metadata": {},
   "outputs": [],
   "source": [
    "x_train, x_test, y_train, y_test = train_test_split(x, y, train_size=0.8, random_state=42)"
   ]
  },
  {
   "cell_type": "code",
   "execution_count": 43,
   "metadata": {},
   "outputs": [],
   "source": [
    "model = LinearRegression()"
   ]
  },
  {
   "cell_type": "code",
   "execution_count": 44,
   "metadata": {},
   "outputs": [
    {
     "data": {
      "text/plain": [
       "LinearRegression()"
      ]
     },
     "execution_count": 44,
     "metadata": {},
     "output_type": "execute_result"
    }
   ],
   "source": [
    "model.fit(x_train, y_train)"
   ]
  },
  {
   "cell_type": "code",
   "execution_count": 45,
   "metadata": {},
   "outputs": [
    {
     "data": {
      "text/plain": [
       "array([126.28970217])"
      ]
     },
     "execution_count": 45,
     "metadata": {},
     "output_type": "execute_result"
    }
   ],
   "source": [
    "b = model.intercept_\n",
    "b"
   ]
  },
  {
   "cell_type": "code",
   "execution_count": 46,
   "metadata": {},
   "outputs": [
    {
     "data": {
      "text/plain": [
       "array([[38.99297872]])"
      ]
     },
     "execution_count": 46,
     "metadata": {},
     "output_type": "execute_result"
    }
   ],
   "source": [
    "m = model.coef_\n",
    "m"
   ]
  },
  {
   "cell_type": "markdown",
   "metadata": {},
   "source": [
    "## Predictions"
   ]
  },
  {
   "cell_type": "code",
   "execution_count": 47,
   "metadata": {},
   "outputs": [],
   "source": [
    "y_predict = model.predict(x_test)"
   ]
  },
  {
   "cell_type": "markdown",
   "metadata": {},
   "source": [
    "# Performance"
   ]
  },
  {
   "cell_type": "code",
   "execution_count": 48,
   "metadata": {},
   "outputs": [
    {
     "data": {
      "text/plain": [
       "76.15595731934374"
      ]
     },
     "execution_count": 48,
     "metadata": {},
     "output_type": "execute_result"
    }
   ],
   "source": [
    "100*(r2_score(y_test, y_predict))"
   ]
  },
  {
   "cell_type": "markdown",
   "metadata": {},
   "source": [
    "# Plotting "
   ]
  },
  {
   "cell_type": "code",
   "execution_count": 50,
   "metadata": {},
   "outputs": [
    {
     "data": {
      "text/plain": [
       "Text(0, 0.5, 'CO2')"
      ]
     },
     "execution_count": 50,
     "metadata": {},
     "output_type": "execute_result"
    },
    {
     "data": {
      "image/png": "[encoded data removed]",
      "text/plain": [
       "<Figure size 432x288 with 1 Axes>"
      ]
     },
     "metadata": {
      "needs_background": "light"
     },
     "output_type": "display_data"
    }
   ],
   "source": [
    "plt.scatter(x_train, y_train)\n",
    "plt.plot(x_train, b + m*x_train, 'r')\n",
    "plt.title('Linear Regression')\n",
    "plt.xlabel('ENGINESIZE')\n",
    "plt.ylabel('CO2')"
   ]
  },
  {
   "cell_type": "markdown",
   "metadata": {},
   "source": [
    "# Example"
   ]
  },
  {
   "cell_type": "code",
   "execution_count": 51,
   "metadata": {},
   "outputs": [
    {
     "data": {
      "text/html": [
       "<div>\n",
       "<style scoped>\n",
       "    .dataframe tbody tr th:only-of-type {\n",
       "        vertical-align: middle;\n",
       "    }\n",
       "\n",
       "    .dataframe tbody tr th {\n",
       "        vertical-align: top;\n",
       "    }\n",
       "\n",
       "    .dataframe thead th {\n",
       "        text-align: right;\n",
       "    }\n",
       "</style>\n",
       "<table border=\"1\" class=\"dataframe\">\n",
       "  <thead>\n",
       "    <tr style=\"text-align: right;\">\n",
       "      <th></th>\n",
       "      <th>ENGINESIZE</th>\n",
       "      <th>CYLINDERS</th>\n",
       "      <th>FUELCONSUMPTION_COMB</th>\n",
       "      <th>CO2EMISSIONS</th>\n",
       "    </tr>\n",
       "  </thead>\n",
       "  <tbody>\n",
       "    <tr>\n",
       "      <th>0</th>\n",
       "      <td>2.0</td>\n",
       "      <td>4</td>\n",
       "      <td>8.5</td>\n",
       "      <td>196</td>\n",
       "    </tr>\n",
       "    <tr>\n",
       "      <th>1</th>\n",
       "      <td>2.4</td>\n",
       "      <td>4</td>\n",
       "      <td>9.6</td>\n",
       "      <td>221</td>\n",
       "    </tr>\n",
       "    <tr>\n",
       "      <th>2</th>\n",
       "      <td>1.5</td>\n",
       "      <td>4</td>\n",
       "      <td>5.9</td>\n",
       "      <td>136</td>\n",
       "    </tr>\n",
       "    <tr>\n",
       "      <th>3</th>\n",
       "      <td>3.5</td>\n",
       "      <td>6</td>\n",
       "      <td>11.1</td>\n",
       "      <td>255</td>\n",
       "    </tr>\n",
       "    <tr>\n",
       "      <th>4</th>\n",
       "      <td>3.5</td>\n",
       "      <td>6</td>\n",
       "      <td>10.6</td>\n",
       "      <td>244</td>\n",
       "    </tr>\n",
       "  </tbody>\n",
       "</table>\n",
       "</div>"
      ],
      "text/plain": [
       "   ENGINESIZE  CYLINDERS  FUELCONSUMPTION_COMB  CO2EMISSIONS\n",
       "0         2.0          4                   8.5           196\n",
       "1         2.4          4                   9.6           221\n",
       "2         1.5          4                   5.9           136\n",
       "3         3.5          6                  11.1           255\n",
       "4         3.5          6                  10.6           244"
      ]
     },
     "execution_count": 51,
     "metadata": {},
     "output_type": "execute_result"
    }
   ],
   "source": [
    "co2_df.head(5)"
   ]
  },
  {
   "cell_type": "code",
   "execution_count": 52,
   "metadata": {},
   "outputs": [
    {
     "data": {
      "text/plain": [
       "array([[208.1749575]])"
      ]
     },
     "execution_count": 52,
     "metadata": {},
     "output_type": "execute_result"
    }
   ],
   "source": [
    "model.predict([[2.1]])"
   ]
  },
  {
   "cell_type": "code",
   "execution_count": 53,
   "metadata": {},
   "outputs": [
    {
     "data": {
      "text/plain": [
       "array([[212.07425537]])"
      ]
     },
     "execution_count": 53,
     "metadata": {},
     "output_type": "execute_result"
    }
   ],
   "source": [
    "model.predict([[2.2]])"
   ]
  },
  {
   "cell_type": "code",
   "execution_count": 54,
   "metadata": {},
   "outputs": [
    {
     "data": {
      "text/plain": [
       "array([[215.97355324]])"
      ]
     },
     "execution_count": 54,
     "metadata": {},
     "output_type": "execute_result"
    }
   ],
   "source": [
    "model.predict([[2.3]])"
   ]
  },
  {
   "cell_type": "code",
   "execution_count": 55,
   "metadata": {},
   "outputs": [
    {
     "data": {
      "text/plain": [
       "array([[219.87285111]])"
      ]
     },
     "execution_count": 55,
     "metadata": {},
     "output_type": "execute_result"
    }
   ],
   "source": [
    "model.predict([[2.4]])"
   ]
  },
  {
   "cell_type": "markdown",
   "metadata": {},
   "source": [
    "# Export the model"
   ]
  },
  {
   "cell_type": "code",
   "execution_count": 60,
   "metadata": {},
   "outputs": [
    {
     "data": {
      "text/plain": [
       "['reg_model.joblib']"
      ]
     },
     "execution_count": 60,
     "metadata": {},
     "output_type": "execute_result"
    }
   ],
   "source": [
    "joblib.dump(model, 'reg_model.joblib')"
   ]
  }
 ],
 "metadata": {
  "kernelspec": {
   "display_name": "Python 3",
   "language": "python",
   "name": "python3"
  },
  "language_info": {
   "codemirror_mode": {
    "name": "ipython",
    "version": 3
   },
   "file_extension": ".py",
   "mimetype": "text/x-python",
   "name": "python",
   "nbconvert_exporter": "python",
   "pygments_lexer": "ipython3",
   "version": "3.8.5"
  }
 },
 "nbformat": 4,
 "nbformat_minor": 2
}
